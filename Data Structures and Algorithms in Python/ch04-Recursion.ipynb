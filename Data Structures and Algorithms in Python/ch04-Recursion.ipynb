{
 "cells": [
  {
   "cell_type": "markdown",
   "metadata": {},
   "source": [
    "# 4.7 Exercises\n",
    "For help with exercises, please visit the [site](http://www.wiley.com/college/goodrich).\n",
    "### Reinforcement"
   ]
  },
  {
   "cell_type": "markdown",
   "metadata": {},
   "source": [
    "__R-4.1__ Describe a recursive algorithm for finding the maximum element in a sequence, S, of n elements. What is your running time and space usage?"
   ]
  },
  {
   "cell_type": "code",
   "execution_count": 1,
   "metadata": {},
   "outputs": [],
   "source": [
    "def recursive_max(arr, maximum=None):\n",
    "    if len(arr) == 0:\n",
    "        return maximum\n",
    "    if maximum == None:\n",
    "        return recursive_max(arr[1:], maximum=arr[0])\n",
    "    else:\n",
    "        new_max = maximum if maximum > arr[0] else arr[0]\n",
    "        return recursive_max(arr[1:], maximum=new_max)\n",
    "    \n",
    "assert recursive_max(arr=[100,20,34,33,12,78,43,3,200]) == 200"
   ]
  },
  {
   "cell_type": "markdown",
   "metadata": {},
   "source": [
    "The time complaxity is $O(n)$. Space complexity is the same as different segments of the array are not regenerated, but accessed by the function."
   ]
  },
  {
   "cell_type": "markdown",
   "metadata": {},
   "source": [
    "__R-4.2__ Draw the recursion trace for the computation of power(2, 5), using the\n",
    "traditional function implemented in Code Fragment 4.11."
   ]
  },
  {
   "cell_type": "code",
   "execution_count": 2,
   "metadata": {},
   "outputs": [
    {
     "name": "stdout",
     "output_type": "stream",
     "text": [
      "power(2,4)\n",
      "power(2,3)\n",
      "power(2,2)\n",
      "power(2,1)\n",
      "power(2,0)\n"
     ]
    },
    {
     "data": {
      "text/plain": [
       "32"
      ]
     },
     "execution_count": 2,
     "metadata": {},
     "output_type": "execute_result"
    }
   ],
   "source": [
    "def power(n, m, trace=False):\n",
    "    if m == 0:\n",
    "        return 1\n",
    "    if trace:\n",
    "        print(f\"power({n},{m-1})\")\n",
    "    return n * power(n, m-1, trace=trace)\n",
    "power(2,5, trace=True)"
   ]
  },
  {
   "cell_type": "markdown",
   "metadata": {},
   "source": [
    "__R-4.3__ Draw the recursion trace for the computation of power(2, 18), using the repeated squaring algorithm, as implemented in Code Fragment 4.12."
   ]
  },
  {
   "cell_type": "code",
   "execution_count": 3,
   "metadata": {},
   "outputs": [
    {
     "name": "stdout",
     "output_type": "stream",
     "text": [
      "power(2,17)\n",
      "power(2,16)\n",
      "power(2,15)\n",
      "power(2,14)\n",
      "power(2,13)\n",
      "power(2,12)\n",
      "power(2,11)\n",
      "power(2,10)\n",
      "power(2,9)\n",
      "power(2,8)\n",
      "power(2,7)\n",
      "power(2,6)\n",
      "power(2,5)\n",
      "power(2,4)\n",
      "power(2,3)\n",
      "power(2,2)\n",
      "power(2,1)\n",
      "power(2,0)\n"
     ]
    },
    {
     "data": {
      "text/plain": [
       "262144"
      ]
     },
     "execution_count": 3,
     "metadata": {},
     "output_type": "execute_result"
    }
   ],
   "source": [
    "power(2,18,trace=True)"
   ]
  },
  {
   "cell_type": "markdown",
   "metadata": {},
   "source": [
    "### Creativity\n",
    "\n",
    "__C-4.9__ Write a short recursive Python function that finds the minimum and maximum values in a sequence without using any loops."
   ]
  },
  {
   "cell_type": "code",
   "execution_count": 4,
   "metadata": {},
   "outputs": [
    {
     "data": {
      "text/plain": [
       "[<matplotlib.lines.Line2D at 0x7f466aa2bc10>]"
      ]
     },
     "execution_count": 4,
     "metadata": {},
     "output_type": "execute_result"
    },
    {
     "data": {
      "image/png": "[encoded data removed]",
      "text/plain": [
       "<Figure size 432x288 with 1 Axes>"
      ]
     },
     "metadata": {
      "needs_background": "light"
     },
     "output_type": "display_data"
    }
   ],
   "source": [
    "def recursive_min_max(arr, minimum=None, maximum=None):\n",
    "    if len(arr) == 0:\n",
    "        return minimum, maximum\n",
    "    if maximum == None and minimum == None:\n",
    "        return recursive_min_max(arr[1:], minimum=arr[0], maximum=arr[0])\n",
    "    else:\n",
    "        new_max = maximum if maximum > arr[0] else arr[0]\n",
    "        new_min = minimum if minimum < arr[0] else arr[0]\n",
    "        return recursive_min_max(arr[1:], minimum=new_min, maximum=new_max)\n",
    "\n",
    "# Testing and Plotting\n",
    "from random import randint\n",
    "import sys\n",
    "from time import time, sleep\n",
    "import matplotlib.pyplot as plt\n",
    "import numpy as np\n",
    "\n",
    "sys.setrecursionlimit(20000)\n",
    "run_times = []\n",
    "loop = list(range(1000,13001, 1000))\n",
    "\n",
    "for element in loop:\n",
    "    stime = time()\n",
    "    recursive_min_max(arr=[randint(1,1e20) for _ in range(int(element))])\n",
    "    run_times.append(time() - stime)\n",
    "    #sleep(0.5)\n",
    "plt.plot(loop, run_times)"
   ]
  },
  {
   "cell_type": "code",
   "execution_count": 5,
   "metadata": {},
   "outputs": [
    {
     "data": {
      "text/plain": [
       "{1000: 0.008363723754882812,\n",
       " 2000: 0.029332876205444336,\n",
       " 3000: 0.11074686050415039,\n",
       " 4000: 0.1246800422668457,\n",
       " 5000: 0.18065142631530762,\n",
       " 6000: 0.2652888298034668,\n",
       " 7000: 0.37985992431640625,\n",
       " 8000: 0.5046918392181396,\n",
       " 9000: 0.6260776519775391,\n",
       " 10000: 1.029914140701294,\n",
       " 11000: 1.1087429523468018,\n",
       " 12000: 1.1917078495025635,\n",
       " 13000: 1.4627957344055176}"
      ]
     },
     "execution_count": 5,
     "metadata": {},
     "output_type": "execute_result"
    }
   ],
   "source": [
    "run_dict = {k:v for k,v in zip(loop, run_times)}\n",
    "run_dict"
   ]
  },
  {
   "cell_type": "markdown",
   "metadata": {},
   "source": [
    "__C-4.10__ Describe a recursive algorithm to compute the integer part of the base-two\n",
    "logarithm of n using only addition and integer division."
   ]
  },
  {
   "cell_type": "code",
   "execution_count": 6,
   "metadata": {},
   "outputs": [],
   "source": [
    "def int_log(n):\n",
    "    if n == 1:\n",
    "        return 0\n",
    "    return 1 + int_log(n//2)\n",
    "\n",
    "# Testing\n",
    "import math\n",
    "\n",
    "for i in range(100,15000):\n",
    "    assert int_log(i) == int(math.log2(i))"
   ]
  },
  {
   "cell_type": "markdown",
   "metadata": {},
   "source": [
    "__P-4.23__ Implement a recursive function with signature ﬁnd(path, ﬁlename) that reports all entries of the ﬁle system rooted at the given path having the given ﬁle name."
   ]
  },
  {
   "cell_type": "code",
   "execution_count": 7,
   "metadata": {},
   "outputs": [
    {
     "name": "stdout",
     "output_type": "stream",
     "text": [
      "./README.md\n"
     ]
    }
   ],
   "source": [
    "import os\n",
    "\n",
    "def find(path, filename):\n",
    "    content = os.listdir(path)\n",
    "    current = None\n",
    "    for f in content:\n",
    "        current = os.path.join(path, f)\n",
    "        try:\n",
    "            if os.path.isfile(os.path.join(path, f)) and f == filename:\n",
    "                print(os.path.join(path, filename))\n",
    "            elif os.path.isdir(os.path.join(path, f)):\n",
    "                find(os.path.join(path, f), filename)\n",
    "                if f == filename:\n",
    "                    print(os.path.join(path, filename), \"/\", sep=\"\")\n",
    "        except PermissionError:\n",
    "            print(\"PermissionError occurred in processing:\", current)\n",
    "        except Error:\n",
    "            print(\"Error occurred in processing:\", current)\n",
    "            \n",
    "###\n",
    "\n",
    "find(\".\", \"README.md\")"
   ]
  },
  {
   "cell_type": "markdown",
   "metadata": {},
   "source": [
    "__P-4.27__ Python’s os module provides a function with signature walk(path) that is a generator yielding the tuple (dirpath, dirnames, ﬁlenames) for each subdirectory of the directory identiﬁed by string path, such that string dirpath is the full path to the subdirectory, dirnames is a list of the names of the subdirectories within dirpath, and ﬁlenames is a list of the names of non-directory entries of dirpath. For example, when visiting the cs016 subdirectory of the ﬁle system shown in Figure 4.6, the walk would yield ( /user/rt/courses/cs016 , \\[ homeworks , programs \\], \\[ grades \\]). Give your own implementation of such a walk function."
   ]
  },
  {
   "cell_type": "code",
   "execution_count": 8,
   "metadata": {},
   "outputs": [],
   "source": [
    "import os\n",
    "\n",
    "def walk(path, topdown=True, onerror=None, followlinks=False):\n",
    "    \"\"\"\n",
    "    Directory tree generator. Mimicking the os.walk() function.\n",
    "    For each directory in the directory tree rooted at top (including top itself, but excluding '.' and '..'), yields a 3-tuple\n",
    "\n",
    "    dirpath, dirnames, filenames\n",
    "    \"\"\"\n",
    "    output = (path, [], [])  # (dirpath, dirnames, filenames)\n",
    "    try:\n",
    "        for f in os.listdir(path):\n",
    "            if os.path.isdir(os.path.join(path, f)):\n",
    "                output[1].append(f)\n",
    "            else:\n",
    "                output[2].append(f)\n",
    "        if topdown: yield output\n",
    "        for f in output[1]:\n",
    "            if followlinks and os.path.islink(os.path.join(path, f)):\n",
    "                yield from walk(os.path.join(path, f))\n",
    "            elif not os.path.islink(os.path.join(path, f)):\n",
    "                yield from walk(os.path.join(path, f))\n",
    "        if not topdown: yield output\n",
    "    except PermissionError as e:\n",
    "        #if onerror:\n",
    "        print(e)\n",
    "    except Exception as e:\n",
    "        #if onerror:\n",
    "        print(e)"
   ]
  },
  {
   "cell_type": "code",
   "execution_count": 9,
   "metadata": {},
   "outputs": [
    {
     "name": "stdout",
     "output_type": "stream",
     "text": [
      "('.', ['images', '.ipynb_checkpoints'], ['ch06-hints.pdf', 'ch05-hints.pdf', 'ch15-hints.pdf', 'README.md', 'ch11-hints.pdf', 'ch09-hints.pdf', 'ch04-Recursion.ipynb', 'ch10-hints.pdf', 'ch02-hints.pdf', 'ch14-hints.pdf', 'ch03-hints.pdf', 'ch01-Python Primer.ipynb', 'ch08-hints.pdf', 'ch04-hints.pdf', 'ch05-Array-Based Sequaences.ipynb', 'ch01-hints.pdf', 'ch12-hints.pdf', 'ch07-hints.pdf', 'ch13-hints.pdf'])\n",
      "('./images', [], ['DSA_Python.jpg'])\n",
      "('./.ipynb_checkpoints', [], ['ch04-Recursion-checkpoint.ipynb', 'ch05-Array-Based Sequaences-checkpoint.ipynb', 'ch01-Python Primer-checkpoint.ipynb'])\n",
      "****************************\n",
      "('.', ['images', '.ipynb_checkpoints'], ['ch06-hints.pdf', 'ch05-hints.pdf', 'ch15-hints.pdf', 'README.md', 'ch11-hints.pdf', 'ch09-hints.pdf', 'ch04-Recursion.ipynb', 'ch10-hints.pdf', 'ch02-hints.pdf', 'ch14-hints.pdf', 'ch03-hints.pdf', 'ch01-Python Primer.ipynb', 'ch08-hints.pdf', 'ch04-hints.pdf', 'ch05-Array-Based Sequaences.ipynb', 'ch01-hints.pdf', 'ch12-hints.pdf', 'ch07-hints.pdf', 'ch13-hints.pdf'])\n",
      "('./images', [], ['DSA_Python.jpg'])\n",
      "('./.ipynb_checkpoints', [], ['ch04-Recursion-checkpoint.ipynb', 'ch05-Array-Based Sequaences-checkpoint.ipynb', 'ch01-Python Primer-checkpoint.ipynb'])\n"
     ]
    }
   ],
   "source": [
    "# Comparing to the os.walk()\n",
    "\n",
    "for e in walk(\".\", topdown=True, followlinks=True):\n",
    "    print(e)\n",
    "print(\"****************************\")\n",
    "for e in os.walk(\".\", topdown=True, followlinks=True):\n",
    "    print(e)"
   ]
  },
  {
   "cell_type": "code",
   "execution_count": 10,
   "metadata": {},
   "outputs": [
    {
     "name": "stdout",
     "output_type": "stream",
     "text": [
      "/home/fred/Videos/Classical_RL.mp4\n"
     ]
    }
   ],
   "source": [
    "# Using the walk method\n",
    "\n",
    "for path, _, files in walk(\"/home/fred/Videos/\"):\n",
    "    for file in files:\n",
    "        if file.endswith(\".mp4\"):\n",
    "            print(os.path.join(path, file))"
   ]
  },
  {
   "cell_type": "markdown",
   "metadata": {},
   "source": [
    "<hr>"
   ]
  }
 ],
 "metadata": {
  "kernelspec": {
   "display_name": "Python 3",
   "language": "python",
   "name": "python3"
  },
  "language_info": {
   "codemirror_mode": {
    "name": "ipython",
    "version": 3
   },
   "file_extension": ".py",
   "mimetype": "text/x-python",
   "name": "python",
   "nbconvert_exporter": "python",
   "pygments_lexer": "ipython3",
   "version": "3.8.3"
  }
 },
 "nbformat": 4,
 "nbformat_minor": 4
}
