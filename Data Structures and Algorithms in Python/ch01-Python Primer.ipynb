{
 "cells": [
  {
   "cell_type": "markdown",
   "metadata": {},
   "source": [
    "# 1.12 Exercises\n",
    "For help with exercises, please visit this [website](https://www.wiley.com/college/goodrich) ,"
   ]
  },
  {
   "cell_type": "markdown",
   "metadata": {},
   "source": [
    "### Reinforcement\n",
    "\n",
    "__R-1.1__ Write a short Python function, is multiple(n, m), that takes two integer values and returns True if n is a multiple of m, that is, n = mi for some integer i, and False otherwise."
   ]
  },
  {
   "cell_type": "code",
   "execution_count": 1,
   "metadata": {},
   "outputs": [],
   "source": [
    "def multiple(n: int, m: int) -> bool:\n",
    "    return n / m == n // m\n",
    "\n",
    "assert multiple(10,5)\n",
    "assert not multiple(5,4)\n",
    "assert not multiple(7,98)\n",
    "assert not multiple(49,5)\n",
    "assert multiple(81,27)"
   ]
  },
  {
   "cell_type": "markdown",
   "metadata": {},
   "source": [
    "__R-1.2__ Write a short Python function, is even(k), that takes an integer value and returns True if k is even, and False otherwise. However, your function cannot use the multiplication, modulo, or division operators."
   ]
  },
  {
   "cell_type": "code",
   "execution_count": 2,
   "metadata": {},
   "outputs": [],
   "source": [
    "def even(k: int) -> bool:\n",
    "    return k == (k >> 1) << 1\n",
    "\n",
    "assert even(12)\n",
    "assert even(76)\n",
    "assert not even(163)"
   ]
  },
  {
   "cell_type": "markdown",
   "metadata": {},
   "source": [
    "__R-1.3__ Write a short Python function, minmax(data), that takes a sequence of one or more numbers, and returns the smallest and largest numbers, in the form of a tuple of length two. Do not use the built-in functions min or max in implementing your solution."
   ]
  },
  {
   "cell_type": "code",
   "execution_count": 3,
   "metadata": {},
   "outputs": [],
   "source": [
    "def minmax(data: list) -> tuple:\n",
    "    min_, max_ = data[0], data[0]\n",
    "    for e in data:\n",
    "        if e > max_:\n",
    "            max_ = e\n",
    "        if e < min_:\n",
    "            min_ = e\n",
    "    return min_, max_\n",
    "\n",
    "assert minmax([12,14,2,0,11]) == (0, 14)\n",
    "assert minmax([56,4,2,-19,22,11]) == (-19, 56)"
   ]
  },
  {
   "cell_type": "markdown",
   "metadata": {},
   "source": [
    "__R-1.4__ Write a short Python function that takes a positive integer n and returns the sum of the squares of all the positive integers smaller than n."
   ]
  },
  {
   "cell_type": "code",
   "execution_count": 4,
   "metadata": {},
   "outputs": [],
   "source": [
    "def sum_of_squared_less_than(n: int) -> int:\n",
    "    if n <= 2: return 1\n",
    "    return sum_of_squared_less_than(n-1) + (n-1)**2\n",
    "\n",
    "assert sum_of_squared_less_than(5) == sum([i**2 for i in range(5)])\n",
    "assert sum_of_squared_less_than(10) == sum([i**2 for i in range(10)])"
   ]
  },
  {
   "cell_type": "markdown",
   "metadata": {},
   "source": [
    "__R-1.5__ Give a single command that computes the sum from Exercise R-1.4, relying on Python’s comprehension syntax and the built-in sum function."
   ]
  },
  {
   "cell_type": "code",
   "execution_count": 5,
   "metadata": {},
   "outputs": [],
   "source": [
    "f = lambda n: sum([i**2 for i in range(n)])\n",
    "\n",
    "assert sum_of_squared_less_than(10) == f(10)"
   ]
  },
  {
   "cell_type": "markdown",
   "metadata": {},
   "source": [
    "__R-1.6__ Write a short Python function that takes a positive integer n and returns the sum of the squares of all the odd positive integers smaller than n."
   ]
  },
  {
   "cell_type": "code",
   "execution_count": 6,
   "metadata": {},
   "outputs": [],
   "source": [
    "def sum_of_squared_odd_less_than(n: int) -> int:\n",
    "    total = 0\n",
    "    for i in range(n):\n",
    "        if i % 2 != 0: total += i**2\n",
    "    return total\n",
    "\n",
    "assert sum_of_squared_odd_less_than(10) == sum([i**2 for i in [1,3,5,7,9]])"
   ]
  },
  {
   "cell_type": "markdown",
   "metadata": {},
   "source": [
    "__R-1.7__ Give a single command that computes the sum from Exercise R-1.6, relying on Python’s comprehension syntax and the built-in sum function."
   ]
  },
  {
   "cell_type": "code",
   "execution_count": 7,
   "metadata": {},
   "outputs": [],
   "source": [
    "f = lambda n: sum([i**2 for i in range(n) if i%2!=0])\n",
    "\n",
    "assert sum_of_squared_odd_less_than(10) == f(10)"
   ]
  },
  {
   "cell_type": "markdown",
   "metadata": {},
   "source": [
    "__R-1.8__ Python allows negative integers to be used as indices into a sequence, such as a string. If string s has length n, and expression s\\[k\\] is used for index −n ≤ k < 0, what is the equivalent index j ≥ 0 such that s\\[j\\] references the same element?\n",
    "\n",
    "__Answer__: _s\\[j - len(j)\\]_"
   ]
  },
  {
   "cell_type": "code",
   "execution_count": 8,
   "metadata": {},
   "outputs": [],
   "source": [
    "s = list(range(10))\n",
    "\n",
    "for j in range(10):\n",
    "    assert s[j] == s[j - len(s)]"
   ]
  },
  {
   "cell_type": "markdown",
   "metadata": {},
   "source": [
    "__R-1.9__ What parameters should be sent to the range constructor, to produce a range with values 50, 60, 70, 80?"
   ]
  },
  {
   "cell_type": "code",
   "execution_count": 9,
   "metadata": {},
   "outputs": [
    {
     "data": {
      "text/plain": [
       "[50, 60, 70, 80]"
      ]
     },
     "execution_count": 9,
     "metadata": {},
     "output_type": "execute_result"
    }
   ],
   "source": [
    "list(range(50,81,10))"
   ]
  },
  {
   "cell_type": "markdown",
   "metadata": {},
   "source": [
    "__R-1.10__ What parameters should be sent to the range constructor, to produce a range with values 8, 6, 4, 2, 0, −2, −4, −6, −8?"
   ]
  },
  {
   "cell_type": "code",
   "execution_count": 10,
   "metadata": {
    "scrolled": true
   },
   "outputs": [
    {
     "data": {
      "text/plain": [
       "[8, 6, 4, 2, 0, -2, -4, -6, -8]"
      ]
     },
     "execution_count": 10,
     "metadata": {},
     "output_type": "execute_result"
    }
   ],
   "source": [
    "list(range(8, -9, -2))"
   ]
  },
  {
   "cell_type": "markdown",
   "metadata": {},
   "source": [
    "__R-1.11__ Demonstrate how to use Python’s list comprehension syntax to produce the list \\[1, 2, 4, 8, 16, 32, 64, 128, 256\\]."
   ]
  },
  {
   "cell_type": "code",
   "execution_count": 11,
   "metadata": {},
   "outputs": [
    {
     "data": {
      "text/plain": [
       "[1, 2, 4, 8, 16, 32, 64, 128, 256]"
      ]
     },
     "execution_count": 11,
     "metadata": {},
     "output_type": "execute_result"
    }
   ],
   "source": [
    "[2**i for i in range(9)]"
   ]
  },
  {
   "cell_type": "markdown",
   "metadata": {},
   "source": [
    "__R-1.12__ Python’s random module includes a function choice(data) that returns a random element from a non-empty sequence. The random module includes a more basic function randrange, with parameterization similar to the built-in range function, that return a random choice from the given range. Using only the randrange function, implement your own version of the choice function."
   ]
  },
  {
   "cell_type": "code",
   "execution_count": 12,
   "metadata": {
    "scrolled": true
   },
   "outputs": [
    {
     "data": {
      "text/plain": [
       "40"
      ]
     },
     "execution_count": 12,
     "metadata": {},
     "output_type": "execute_result"
    }
   ],
   "source": [
    "import random\n",
    "\n",
    "def choice(s: list) -> object:\n",
    "    if s:\n",
    "        return s[random.randrange(len(s))]\n",
    "    else:\n",
    "        raise ValueError(\"Empty list.\")\n",
    "\n",
    "choice([10,20,30,40])"
   ]
  },
  {
   "cell_type": "markdown",
   "metadata": {},
   "source": [
    "### Creativity"
   ]
  },
  {
   "cell_type": "markdown",
   "metadata": {},
   "source": [
    "__C-1.13__ Write a pseudo-code description of a function that reverses a list of n integers, so that the numbers are listed in the opposite order than they were before, and compare this method to an equivalent Python function\n",
    "for doing the same thing."
   ]
  },
  {
   "cell_type": "code",
   "execution_count": 13,
   "metadata": {},
   "outputs": [],
   "source": [
    "def reverse_(s: list):\n",
    "    for i in range(len(s)-1, -1, -1):\n",
    "        yield s[i]\n",
    "\n",
    "assert list(reverse_([10,12,3,9,4])) == list(reversed([10,12,3,9,4]))"
   ]
  },
  {
   "cell_type": "markdown",
   "metadata": {},
   "source": [
    "__C-1.14__ Write a short Python function that takes a sequence of integer values and determines if there is a distinct pair of numbers in the sequence whose product is odd."
   ]
  },
  {
   "cell_type": "code",
   "execution_count": 14,
   "metadata": {},
   "outputs": [],
   "source": [
    "def is_odd_pair(s: list) -> bool:\n",
    "    for i in range(len(s)):\n",
    "        for j in range(i+1, len(s)):\n",
    "            if s[i] % 2 == 1 and s[j] % 2 == 1:\n",
    "                return True\n",
    "\n",
    "assert is_odd_pair([2,3,4,5])\n",
    "assert is_odd_pair([23, 57, 22, 23])\n",
    "assert not is_odd_pair([2,4,6,8,10])"
   ]
  },
  {
   "cell_type": "markdown",
   "metadata": {},
   "source": [
    "__C-1.15__ Write a Python function that takes a sequence of numbers and determines if all the numbers are different from each other (that is, they are distinct)."
   ]
  },
  {
   "cell_type": "code",
   "execution_count": 15,
   "metadata": {},
   "outputs": [
    {
     "name": "stdout",
     "output_type": "stream",
     "text": [
      "CPU times: user 15.1 s, sys: 0 ns, total: 15.1 s\n",
      "Wall time: 15.1 s\n",
      "CPU times: user 7.51 ms, sys: 0 ns, total: 7.51 ms\n",
      "Wall time: 7.38 ms\n"
     ]
    },
    {
     "data": {
      "text/plain": [
       "True"
      ]
     },
     "execution_count": 15,
     "metadata": {},
     "output_type": "execute_result"
    }
   ],
   "source": [
    "def is_all_unique(s: list) -> bool:\n",
    "    for i in range(len(s)):\n",
    "        for j in range(i+1, len(s)):\n",
    "            if s[i] == s[j]:\n",
    "                return False\n",
    "    return True\n",
    "\n",
    "def is_all_unique_quick(s: list) -> bool:\n",
    "    s.sort()\n",
    "    for i in range(1, len(s)):\n",
    "        if s[i] == s[i-1]:\n",
    "            return False\n",
    "    return True\n",
    "\n",
    "assert not is_all_unique_quick([12,12])\n",
    "assert not is_all_unique_quick([65, 23, 77, 14, 65])\n",
    "assert is_all_unique_quick([35, 41, 47, 11, 65])\n",
    "\n",
    "# Benchmarking\n",
    "import random, time\n",
    "\n",
    "random_data = [random.randint(0, 1_000_000_000_000) for _ in range(20_000)]\n",
    "\n",
    "%time is_all_unique(random_data)  # O(n^2) time complexity\n",
    "%time is_all_unique_quick(random_data)  # O(n.log(n)) time complexity"
   ]
  },
  {
   "cell_type": "markdown",
   "metadata": {},
   "source": [
    "__C-1.16__ In our implementation of the scale function (page 25), the body of the loop executes the command data[j] = factor. We have discussed that numeric types are immutable, and that use of the = operator in this context causes\n",
    "the creation of a new instance (not the mutation of an existing instance). How is it still possible, then, that our implementation of scale changes the actual parameter sent by the caller?"
   ]
  },
  {
   "cell_type": "markdown",
   "metadata": {},
   "source": [
    "__Answer__ _It creates a new instance of the int class consists of $data[j] \\times factor$ value. The pointer will be then corrected to the new value and the old value will be released. The old value will be garbage collected by the compiler._"
   ]
  },
  {
   "cell_type": "markdown",
   "metadata": {},
   "source": [
    "__C-1.17__ Had we implemented the scale function (page 25) as follows, does it work properly?\n",
    "```python\n",
    "def scale(data, factor):\n",
    "    for val in data:\n",
    "        val *= factor\n",
    "```\n",
    "Explain why or why not."
   ]
  },
  {
   "cell_type": "markdown",
   "metadata": {},
   "source": [
    "__Answer__ No, it doesn't. Because $val$ variable is temporary and its content will be discarded in the next iteration of the loop. It never corrects the pointers of the data elements to new values."
   ]
  },
  {
   "cell_type": "code",
   "execution_count": 16,
   "metadata": {
    "scrolled": true
   },
   "outputs": [
    {
     "name": "stdout",
     "output_type": "stream",
     "text": [
      "Data after Scale: [1, 2, 3, 4]\n",
      "Data after Good Scale: [5, 10, 15, 20]\n"
     ]
    }
   ],
   "source": [
    "def good_scale(data, factor):\n",
    "    for i in range(len(data)):\n",
    "        data[i] *= factor\n",
    "        \n",
    "def scale(data, factor):\n",
    "    for val in data:\n",
    "        val *= factor\n",
    "\n",
    "data = [1,2,3,4]\n",
    "factor = 5\n",
    "scale(data, factor)\n",
    "print(\"Data after Scale:\", data)\n",
    "good_scale(data, factor)\n",
    "print(\"Data after Good Scale:\", data)"
   ]
  },
  {
   "cell_type": "markdown",
   "metadata": {},
   "source": [
    "__C-1.18__ Demonstrate how to use Python’s list comprehension syntax to produce the list \\[0, 2, 6, 12, 20, 30, 42, 56, 72, 90\\]."
   ]
  },
  {
   "cell_type": "code",
   "execution_count": 17,
   "metadata": {},
   "outputs": [
    {
     "data": {
      "text/plain": [
       "[0, 2, 6, 12, 20, 30, 42, 56, 72, 90]"
      ]
     },
     "execution_count": 17,
     "metadata": {},
     "output_type": "execute_result"
    }
   ],
   "source": [
    "[x*(x+1) for x in range(0, 10)]"
   ]
  },
  {
   "cell_type": "markdown",
   "metadata": {},
   "source": [
    "__C-1.19__ Demonstrate how to use Python’s list comprehension syntax to produce the list \\[ a , b , c , ..., z \\], but without having to type all 26 such characters literally."
   ]
  },
  {
   "cell_type": "code",
   "execution_count": 18,
   "metadata": {
    "scrolled": true
   },
   "outputs": [
    {
     "name": "stdout",
     "output_type": "stream",
     "text": [
      "['a', 'b', 'c', 'd', 'e', 'f', 'g', 'h', 'i', 'j', 'k', 'l', 'm', 'n', 'o', 'p', 'q', 'r', 's', 't', 'u', 'v', 'w', 'x', 'y', 'z']\n"
     ]
    }
   ],
   "source": [
    "print([chr(x) for x in range(97, 123)])"
   ]
  },
  {
   "cell_type": "markdown",
   "metadata": {},
   "source": [
    "__C-1.20__ Python’s random module includes a function shuﬄe(data) that accepts a list of elements and randomly reorders the elements so that each possible order occurs with equal probability. The random module includes a more basic function randint(a, b) that returns a uniformly random integer from a to b (including both endpoints). Using only the randint function, implement your own version of the shuﬄe function."
   ]
  },
  {
   "cell_type": "code",
   "execution_count": 19,
   "metadata": {
    "scrolled": true
   },
   "outputs": [
    {
     "data": {
      "text/plain": [
       "[2, 17, 0, 3, 18, 8, 1, 7, 6, 19, 4, 16, 5, 9, 15, 10, 11, 12, 13, 14]"
      ]
     },
     "execution_count": 19,
     "metadata": {},
     "output_type": "execute_result"
    }
   ],
   "source": [
    "import random\n",
    "\n",
    "def shuffle(data: list) -> list:\n",
    "    for src in range(len(data)):\n",
    "        dest = random.randint(0,len(data)-1)\n",
    "        data[src], data[dest] = data[dest], data[src]\n",
    "    return data\n",
    "\n",
    "shuffle(list(range(20)))"
   ]
  },
  {
   "cell_type": "markdown",
   "metadata": {},
   "source": [
    "__C-1.21__ Write a Python program that repeatedly reads lines from standard input until an EOFError is raised, and then outputs those lines in reverse order (a user can indicate end of input by typing ctrl-D)."
   ]
  },
  {
   "cell_type": "markdown",
   "metadata": {},
   "source": [
    "```python\n",
    "s = []\n",
    "try:\n",
    "    while True:\n",
    "        line = input(\"Enter a line:\")\n",
    "        s.append(line)\n",
    "except EOFError:\n",
    "    print(list(reversed(s)))\n",
    "```"
   ]
  },
  {
   "cell_type": "markdown",
   "metadata": {},
   "source": [
    "__C-1.22__ Write a short Python program that takes two arrays a and b of length n storing int values, and returns the <font color=\"red\"><strike>dot product</strike></font> <a href=\"https://en.wikipedia.org/wiki/Hadamard_product_(matrices)\">Hadamard product</a> of a and b. That is, it returns an array c of length n such that c\\[i\\] = a\\[i\\] · b\\[i\\], for i = 0, $\\ldots$ , n − 1."
   ]
  },
  {
   "cell_type": "code",
   "execution_count": 20,
   "metadata": {},
   "outputs": [],
   "source": [
    "def dot_prod(a: list, b: list):\n",
    "    if len(a) != len(b): raise IndexError(\"Size mismatch between arrays.\")\n",
    "    return [a[i]*b[i] for i in range(len(a))]\n",
    "\n",
    "assert dot_prod([1,2,3], [1,2, 3]) == [1, 4, 9]"
   ]
  },
  {
   "cell_type": "markdown",
   "metadata": {},
   "source": [
    "__C-1.23__ Give an example of a Python code fragment that attempts to write an element to a list based on an index that may be out of bounds. If that index is out of bounds, the program should catch the exception that results, and\n",
    "print the following error message:\n",
    "\n",
    "“Don’t try buffer overflow attacks in Python!”"
   ]
  },
  {
   "cell_type": "code",
   "execution_count": 21,
   "metadata": {},
   "outputs": [
    {
     "name": "stdout",
     "output_type": "stream",
     "text": [
      "list assignment index out of range\n",
      "Don't try buffer overflow attacks in Python!\n"
     ]
    }
   ],
   "source": [
    "a = [1,2]\n",
    "new_e = 3\n",
    "idx = 4\n",
    "try:\n",
    "    a[idx] = new_e\n",
    "except IndexError as e:\n",
    "    print(e)\n",
    "    print(\"Don't try buffer overflow attacks in Python!\")"
   ]
  },
  {
   "cell_type": "markdown",
   "metadata": {},
   "source": [
    "__C-1.24__ Write a short Python function that counts the number of vowels in a given character string."
   ]
  },
  {
   "cell_type": "code",
   "execution_count": 22,
   "metadata": {},
   "outputs": [],
   "source": [
    "def count_vowels(s):\n",
    "    return len([e for e in s if e in \"aeiou\"])\n",
    "\n",
    "assert count_vowels(\"hey this is great!\") == 5\n",
    "assert count_vowels(\"yay! This is awesome\") == 7"
   ]
  },
  {
   "cell_type": "markdown",
   "metadata": {},
   "source": [
    "__C-1.25__ Write a short Python function that takes a string s, representing a sentence, and returns a copy of the string with all punctuation removed. For example, if given the string \"Let s try, Mike.\", this function would return \"Lets try Mike\"."
   ]
  },
  {
   "cell_type": "code",
   "execution_count": 23,
   "metadata": {},
   "outputs": [
    {
     "data": {
      "text/plain": [
       "'Let s try Mike'"
      ]
     },
     "execution_count": 23,
     "metadata": {},
     "output_type": "execute_result"
    }
   ],
   "source": [
    "def punc_remover(s: str) -> str:\n",
    "    return \"\".join([e for e in s if e not in \",.:;\"])\n",
    "\n",
    "punc_remover(\"Let s try, Mike.\")"
   ]
  },
  {
   "cell_type": "markdown",
   "metadata": {},
   "source": [
    "__C-1.26__ Write a short program that takes as input three integers, a, b, and c, from the console and determines if they can be used in a correct arithmetic formula (in the given order), like “a + b = c,” “a = b − c,” or “a ∗ b = c.”"
   ]
  },
  {
   "cell_type": "code",
   "execution_count": 24,
   "metadata": {},
   "outputs": [],
   "source": [
    "def is_arithmetic(a, b, c):\n",
    "    return a + b == c or a == b - c or a * b == c\n",
    "\n",
    "assert is_arithmetic(1,2,3)"
   ]
  },
  {
   "cell_type": "markdown",
   "metadata": {},
   "source": [
    "__C-1.27__ In Section 1.8, we provided three different implementations of a generator that computes factors of a given integer. The third of those implementations, from page 41, was the most efﬁcient, but we noted that it did not yield the factors in increasing order. Modify the generator so that it reports factors in increasing order, while maintaining its general performance advantages."
   ]
  },
  {
   "cell_type": "code",
   "execution_count": 25,
   "metadata": {},
   "outputs": [
    {
     "name": "stdout",
     "output_type": "stream",
     "text": [
      "[1, 2, 4, 8, 16, 19, 38, 76, 113, 152, 226, 304, 452, 904, 1808, 2147, 4294, 8588, 17176, 34352]\n",
      "[1, 2, 4, 8, 16, 32, 64, 128, 256]\n"
     ]
    }
   ],
   "source": [
    "def factors(n: int):\n",
    "    k = 1\n",
    "    rest = []\n",
    "    while k * k <= n:\n",
    "        if n % k == 0:\n",
    "            yield k\n",
    "            if k * k != n:\n",
    "                rest.append(n // k)\n",
    "        k += 1\n",
    "    for e in reversed(rest):\n",
    "        yield e\n",
    "\n",
    "print(list(factors(34352)))\n",
    "print(list(factors(256)))"
   ]
  },
  {
   "cell_type": "markdown",
   "metadata": {},
   "source": [
    "__C-1.28__ The p-norm of a vector $v = (v_1 , v_2 , \\ldots , v_n)$ in n-dimensional space is deﬁned as\n",
    "\n",
    "$||v|| = \\sqrt[p]{v_1^p + v_2^p + \\ldots + v_n^p}$\n",
    "\n",
    "For the special case of p = 2, this results in the traditional Euclidean norm, which represents the length of the vector. For example, the Euclidean norm of a two-dimensional with coordinates (4, 3) has a Euclidean norm of $\\sqrt{4 + 3} = \\sqrt{16 + 9} = \\sqrt{25} = 5$. Give an implementation of a function named norm such that norm(v, p) returns the p-norm value of v and norm(v) returns the Euclidean norm of v. You may assume that v is a list of numbers."
   ]
  },
  {
   "cell_type": "code",
   "execution_count": 26,
   "metadata": {},
   "outputs": [],
   "source": [
    "def norm(v: list, p=2) -> int:\n",
    "    return (sum([e**p for e in v]))**(1/p)\n",
    "\n",
    "assert norm([4,3]) == 5"
   ]
  },
  {
   "cell_type": "markdown",
   "metadata": {},
   "source": [
    "### Projects"
   ]
  },
  {
   "cell_type": "markdown",
   "metadata": {},
   "source": [
    "__P-1.29__ Write a Python program that outputs all possible strings formed by using the characters c , a , t , d , o , and g exactly once."
   ]
  },
  {
   "cell_type": "code",
   "execution_count": null,
   "metadata": {},
   "outputs": [],
   "source": []
  },
  {
   "cell_type": "markdown",
   "metadata": {},
   "source": [
    "__P-1.33__ Write a Python program that simulates a handheld calculator. Your program should process input from the Python console representing buttons that are “pushed,” and then output the contents of the screen after each operation is performed. Minimally, your calculator should be able to process the basic arithmetic operations and a reset/clear operation."
   ]
  },
  {
   "cell_type": "markdown",
   "metadata": {},
   "source": [
    "__P-1.34__ A common punishment for school children is to write out a sentence multiple times. Write a Python stand-alone program that will write out the following sentence one hundred times: “I will never spam my friends again.” Your program should number each of the sentences and it should make eight different random-looking typos."
   ]
  },
  {
   "cell_type": "code",
   "execution_count": 27,
   "metadata": {},
   "outputs": [
    {
     "name": "stdout",
     "output_type": "stream",
     "text": [
      "1 I will never spam my friends again. \n",
      "2 I will never spam my friends again. \n",
      "3 I will nevr* spam my friends again. \n",
      "4 I will never spam my friends again. \n",
      "5 I will never spam my friends again. \n",
      "6 I will never spam my friends again. \n",
      "7 I will never spam my friends again. \n",
      "8 I will never spam my friends again. \n",
      "9 I will never spam my friends again. \n",
      "10 I will never spam my friends again. \n",
      "11 I will never spam my friends again. \n",
      "12 I will never spam my friends again. \n",
      "13 I will never spam my friends again. \n",
      "14 I will never spam my friends again. \n",
      "15 I will never spam my friends again. \n",
      "16 I will never spam my friends again. \n",
      "17 I will never spam my friends again. \n",
      "18 I will never spam my friends again. \n",
      "19 I will never spam my friends again. \n",
      "20 I will never spam my friends again. \n",
      "21 I will never spam my friends again. \n",
      "22 I will never spam my friends again. \n",
      "23 I will never spam my friends again. \n",
      "24 I will never spam my friends again. \n",
      "25 I will never spam my friends again. \n",
      "26 I will never spam my friends again. \n",
      "27 I will never spam my friends again. \n",
      "28 I will never spam my friends again. \n",
      "29 I will never spam my friends again. \n",
      "30 I will never spam my friends again. \n",
      "31 I will never spam my friends again. \n",
      "32 I will never spam my friends again. \n",
      "33 I will never spam my friends again. \n",
      "34 I will never spam my friends again. \n",
      "35 I will never spam my friends again. \n",
      "36 I will never spam my friends again. \n",
      "37 I will never spam my friends again. \n",
      "38 I will never spam my friends again. \n",
      "39 I will never spam my friends again. \n",
      "40 I will never spam my friends again. \n",
      "41 I will never spam my friends again. \n",
      "42 I will never spam my friends again. \n",
      "43 I will never spam my friends again. \n",
      "44 I will never spam my freinds* again. \n",
      "45 I will never spam my friends again. \n",
      "46 I will never spam my friends again. \n",
      "47 I will never spam my friends again. \n",
      "48 I will never spam my friends again. \n",
      "49 I will never spam my friends again. \n",
      "50 I will never spam my friends again. \n",
      "51 I will never spam my friends again. \n",
      "52 I wil* never spam my friends again. \n",
      "53 I will never spam my friends again. \n",
      "54 I will never spam my friends again. \n",
      "55 I will never spam my friends again. \n",
      "56 I will never spam my friends again. \n",
      "57 I will never spam my friends again. \n",
      "58 I will never spam my friends again. \n",
      "59 I will never spam my friends again. \n",
      "60 I will never spam my friends again. \n",
      "61 I will never spam my friends again. \n",
      "62 I will never spam me* friends again. \n",
      "63 I will never spam my friends again. \n",
      "64 I will never spam my friends again. \n",
      "65 I will never spam my friends again. \n",
      "66 I will never spam my friends again. \n",
      "67 I will never spam my friends again. \n",
      "68 I will never spam my friends again. \n",
      "69 I will never spam my friends again. \n",
      "70 I will never spam my friends again. \n",
      "71 I will never spam my friends again. \n",
      "72 I will never spam my freinds* again. \n",
      "73 I will never spam my friends again. \n",
      "74 I will never spam my friends again. \n",
      "75 I will never spam my friends again. \n",
      "76 I will never spam my friends again. \n",
      "77 I will never spam my friends again* \n",
      "78 I will never spam my friends again. \n",
      "79 I will never spam my friends again. \n",
      "80 I will never spam my friends again. \n",
      "81 I will never spam my friends again. \n",
      "82 I will never spam my friends again. \n",
      "83 I will never spam my friends again. \n",
      "84 I will never spam my friends again. \n",
      "85 I will never spam my friends again. \n",
      "86 I will never span* my friends again. \n",
      "87 I will never spam my friends again. \n",
      "88 I will never spam my friends again. \n",
      "89 I will never spam my friends again. \n",
      "90 I will never spam my friends again. \n",
      "91 I will never spam my friends again. \n",
      "92 I will never spam my friends again. \n",
      "93 I will never spam my friends again. \n",
      "94 I will never spam my friends again. \n",
      "95 I wil* never spam my friends again. \n",
      "96 I will never spam my friends again. \n",
      "97 I will never spam my friends again. \n",
      "98 I will never spam my friends again. \n",
      "99 I will never spam my friends again. \n",
      "100 I will never spam my friends again. \n"
     ]
    }
   ],
   "source": [
    "import random\n",
    "\n",
    "words = {\"I\":[\"I\", \"i\"], \"will\":[\"will\", \"wil\"], \"never\":[\"never\", \"nevr\"],\n",
    "         \"spam\":[\"spam\",\"span\"], \"my\":[\"my\", \"me\"], \"friends\":[\"friends\", \"freinds\"],\n",
    "         \"again.\":[\"again.\", \"again\"]}\n",
    "\n",
    "rands = [random.choice(range(0,700)) for _ in range(8)]\n",
    "\n",
    "counter = 0\n",
    "for i in range(100):\n",
    "    print(i+1, end=\" \")\n",
    "    for w in words.keys():\n",
    "        if counter in rands:\n",
    "            print(words[w][1], end=\"* \")\n",
    "        else:\n",
    "            print(words[w][0], end=\" \")\n",
    "        counter += 1\n",
    "    print()"
   ]
  },
  {
   "cell_type": "markdown",
   "metadata": {},
   "source": [
    "__P-1.36__ Write a Python program that inputs a list of words, separated by whitespace, and outputs how many times each word appears in the list. You need not worry about efﬁciency at this point, however, as this topic is something that will be addressed later in this book."
   ]
  },
  {
   "cell_type": "code",
   "execution_count": 28,
   "metadata": {},
   "outputs": [
    {
     "data": {
      "text/plain": [
       "{'a': 4, 'this': 3, 'yes': 2, 'test': 2, 'is': 2}"
      ]
     },
     "execution_count": 28,
     "metadata": {},
     "output_type": "execute_result"
    }
   ],
   "source": [
    "inp = \"\"\"this is is a      a a \n",
    "\\t\\ta test test this   yes yes    this\"\"\"\n",
    "def counter(s):\n",
    "    strings = s.split()\n",
    "    words = {x:0 for x in set(strings)}\n",
    "    \n",
    "    for word in words.keys():\n",
    "        for i in range(len(strings)):\n",
    "            if word == strings[i]:\n",
    "                words[strings[i]] += 1\n",
    "    return words\n",
    "\n",
    "counter(inp)"
   ]
  },
  {
   "cell_type": "code",
   "execution_count": 29,
   "metadata": {},
   "outputs": [
    {
     "ename": "SystemExit",
     "evalue": "0",
     "output_type": "error",
     "traceback": [
      "An exception has occurred, use %tb to see the full traceback.\n",
      "\u001b[0;31mSystemExit\u001b[0m\u001b[0;31m:\u001b[0m 0\n"
     ]
    },
    {
     "name": "stderr",
     "output_type": "stream",
     "text": [
      "/home/fred/anaconda3/lib/python3.8/site-packages/IPython/core/interactiveshell.py:3351: UserWarning: To exit: use 'exit', 'quit', or Ctrl-D.\n",
      "  warn(\"To exit: use 'exit', 'quit', or Ctrl-D.\", stacklevel=1)\n"
     ]
    }
   ],
   "source": [
    "# P 33\n",
    "from PyQt5 import QtCore, QtGui, QtWidgets\n",
    "import threading, math, time\n",
    "\n",
    "\n",
    "class Ui_MainWindow(object):\n",
    "    def setupUi(self, MainWindow):\n",
    "        MainWindow.setObjectName(\"MainWindow\")\n",
    "        MainWindow.resize(299, 348)\n",
    "        MainWindow.setFixedSize(299, 348)\n",
    "        self.centralwidget = QtWidgets.QWidget(MainWindow)\n",
    "        self.centralwidget.setObjectName(\"centralwidget\")\n",
    "        self.verticalLayoutWidget = QtWidgets.QWidget(self.centralwidget)\n",
    "        self.verticalLayoutWidget.setGeometry(QtCore.QRect(10, 0, 281, 81))\n",
    "        self.verticalLayoutWidget.setObjectName(\"verticalLayoutWidget\")\n",
    "        self.verticalLayout = QtWidgets.QVBoxLayout(self.verticalLayoutWidget)\n",
    "        self.verticalLayout.setContentsMargins(0, 0, 0, 0)\n",
    "        self.verticalLayout.setObjectName(\"verticalLayout\")\n",
    "        self.plainTextEdit = QtWidgets.QPlainTextEdit(self.verticalLayoutWidget)\n",
    "        self.plainTextEdit.setReadOnly(True)\n",
    "        self.plainTextEdit.ensureCursorVisible()\n",
    "        self.plainTextEdit.setObjectName(\"plainTextEdit\")\n",
    "        self.verticalLayout.addWidget(self.plainTextEdit)\n",
    "        self.gridLayout = QtWidgets.QGridLayout()\n",
    "        self.gridLayout.setObjectName(\"gridLayout\")\n",
    "        self.verticalLayout.addLayout(self.gridLayout)\n",
    "        self.gridLayoutWidget_2 = QtWidgets.QWidget(self.centralwidget)\n",
    "        self.gridLayoutWidget_2.setGeometry(QtCore.QRect(10, 80, 281, 221))\n",
    "        self.gridLayoutWidget_2.setObjectName(\"gridLayoutWidget_2\")\n",
    "        self.gridLayout_2 = QtWidgets.QGridLayout(self.gridLayoutWidget_2)\n",
    "        self.gridLayout_2.setContentsMargins(0, 0, 0, 0)\n",
    "        self.gridLayout_2.setObjectName(\"gridLayout_2\")\n",
    "        self._8 = QtWidgets.QPushButton(self.gridLayoutWidget_2)\n",
    "        self._8.setObjectName(\"_8\")\n",
    "        self.gridLayout_2.addWidget(self._8, 0, 2, 1, 1)\n",
    "        self.ac = QtWidgets.QPushButton(self.gridLayoutWidget_2)\n",
    "        self.ac.setObjectName(\"ac\")\n",
    "        self.gridLayout_2.addWidget(self.ac, 0, 0, 1, 1)\n",
    "        self._9 = QtWidgets.QPushButton(self.gridLayoutWidget_2)\n",
    "        self._9.setObjectName(\"_9\")\n",
    "        self.gridLayout_2.addWidget(self._9, 0, 3, 1, 1)\n",
    "        self._7 = QtWidgets.QPushButton(self.gridLayoutWidget_2)\n",
    "        self._7.setObjectName(\"_7\")\n",
    "        self.gridLayout_2.addWidget(self._7, 0, 1, 1, 1)\n",
    "        self._4 = QtWidgets.QPushButton(self.gridLayoutWidget_2)\n",
    "        self._4.setObjectName(\"_4\")\n",
    "        self.gridLayout_2.addWidget(self._4, 1, 1, 1, 1)\n",
    "        self._6 = QtWidgets.QPushButton(self.gridLayoutWidget_2)\n",
    "        self._6.setObjectName(\"_6\")\n",
    "        self.gridLayout_2.addWidget(self._6, 1, 3, 1, 1)\n",
    "        self._5 = QtWidgets.QPushButton(self.gridLayoutWidget_2)\n",
    "        self._5.setObjectName(\"_5\")\n",
    "        self.gridLayout_2.addWidget(self._5, 1, 2, 1, 1)\n",
    "        self.divide = QtWidgets.QPushButton(self.gridLayoutWidget_2)\n",
    "        self.divide.setObjectName(\"divide\")\n",
    "        self.gridLayout_2.addWidget(self.divide, 0, 4, 1, 1)\n",
    "        self._1 = QtWidgets.QPushButton(self.gridLayoutWidget_2)\n",
    "        self._1.setObjectName(\"_1\")\n",
    "        self.gridLayout_2.addWidget(self._1, 2, 1, 1, 1)\n",
    "        self._3 = QtWidgets.QPushButton(self.gridLayoutWidget_2)\n",
    "        self._3.setObjectName(\"_3\")\n",
    "        self.gridLayout_2.addWidget(self._3, 2, 3, 1, 1)\n",
    "        self._2 = QtWidgets.QPushButton(self.gridLayoutWidget_2)\n",
    "        self._2.setObjectName(\"_2\")\n",
    "        self.gridLayout_2.addWidget(self._2, 2, 2, 1, 1)\n",
    "        self._0 = QtWidgets.QPushButton(self.gridLayoutWidget_2)\n",
    "        self._0.setObjectName(\"_0\")\n",
    "        self.gridLayout_2.addWidget(self._0, 3, 1, 1, 1)\n",
    "        self.dot = QtWidgets.QPushButton(self.gridLayoutWidget_2)\n",
    "        self.dot.setObjectName(\"dot\")\n",
    "        self.gridLayout_2.addWidget(self.dot, 3, 2, 1, 1)\n",
    "        self.times = QtWidgets.QPushButton(self.gridLayoutWidget_2)\n",
    "        self.times.setObjectName(\"times\")\n",
    "        self.gridLayout_2.addWidget(self.times, 1, 4, 1, 1)\n",
    "        self.minus = QtWidgets.QPushButton(self.gridLayoutWidget_2)\n",
    "        self.minus.setObjectName(\"minus\")\n",
    "        self.gridLayout_2.addWidget(self.minus, 2, 4, 1, 1)\n",
    "        self.plus = QtWidgets.QPushButton(self.gridLayoutWidget_2)\n",
    "        self.plus.setObjectName(\"plus\")\n",
    "        self.gridLayout_2.addWidget(self.plus, 3, 4, 1, 1)\n",
    "        self.equal = QtWidgets.QPushButton(self.gridLayoutWidget_2)\n",
    "        self.equal.setObjectName(\"equal\")\n",
    "        self.gridLayout_2.addWidget(self.equal, 3, 3, 1, 1)\n",
    "        self.modulo = QtWidgets.QPushButton(self.gridLayoutWidget_2)\n",
    "        self.modulo.setObjectName(\"modulo\")\n",
    "        self.gridLayout_2.addWidget(self.modulo, 3, 0, 1, 1)\n",
    "        self.square = QtWidgets.QPushButton(self.gridLayoutWidget_2)\n",
    "        self.square.setObjectName(\"square\")\n",
    "        self.gridLayout_2.addWidget(self.square, 1, 0, 1, 1)\n",
    "        self.sqrt = QtWidgets.QPushButton(self.gridLayoutWidget_2)\n",
    "        self.sqrt.setObjectName(\"sqrt\")\n",
    "        self.gridLayout_2.addWidget(self.sqrt, 2, 0, 1, 1)\n",
    "        MainWindow.setCentralWidget(self.centralwidget)\n",
    "        self.menubar = QtWidgets.QMenuBar(MainWindow)\n",
    "        self.menubar.setGeometry(QtCore.QRect(0, 0, 299, 20))\n",
    "        self.menubar.setObjectName(\"menubar\")\n",
    "        self.menuFile = QtWidgets.QMenu(self.menubar)\n",
    "        self.menuFile.setObjectName(\"menuFile\")\n",
    "        MainWindow.setMenuBar(self.menubar)\n",
    "        self.statusbar = QtWidgets.QStatusBar(MainWindow)\n",
    "        self.statusbar.setObjectName(\"statusbar\")\n",
    "        MainWindow.setStatusBar(self.statusbar)\n",
    "        self.actionCredit = QtWidgets.QAction(MainWindow)\n",
    "        self.actionCredit.setObjectName(\"actionCredit\")\n",
    "        self.actionExit = QtWidgets.QAction(MainWindow)\n",
    "        self.actionExit.setObjectName(\"actionExit\")\n",
    "        self.menuFile.addSeparator()\n",
    "        self.menuFile.addSeparator()\n",
    "        self.menuFile.addAction(self.actionCredit)\n",
    "        self.menuFile.addAction(self.actionExit)\n",
    "        self.menubar.addAction(self.menuFile.menuAction())\n",
    "\n",
    "        self.retranslateUi(MainWindow)\n",
    "        QtCore.QMetaObject.connectSlotsByName(MainWindow)\n",
    "\n",
    "        self.gnu = \"\"\n",
    "        self.t = threading.Thread(None, self.download_gnu)\n",
    "        self.t.start()\n",
    "        self.memory = None\n",
    "        self.current = \"\"\n",
    "        self.isFresh = True\n",
    "        self.op = \"\"\n",
    "\n",
    "        self.ac.clicked.connect(self.onClickAC)\n",
    "        self._9.clicked.connect(self.onClick9)\n",
    "        self._8.clicked.connect(self.onClick8)\n",
    "        self._7.clicked.connect(self.onClick7)\n",
    "        self._6.clicked.connect(self.onClick6)\n",
    "        self._5.clicked.connect(self.onClick5)\n",
    "        self._4.clicked.connect(self.onClick4)\n",
    "        self._3.clicked.connect(self.onClick3)\n",
    "        self._2.clicked.connect(self.onClick2)\n",
    "        self._1.clicked.connect(self.onClick1)\n",
    "        self._0.clicked.connect(self.onClick0)\n",
    "        self.plus.clicked.connect(self.onClickPlus)\n",
    "        self.times.clicked.connect(self.onClickTimes)\n",
    "        self.sqrt.clicked.connect(self.onClickSqrt)\n",
    "        self.square.clicked.connect(self.onClickSquare)\n",
    "        self.equal.clicked.connect(self.onClickEqual)\n",
    "        self.dot.clicked.connect(self.onClickDot)\n",
    "        self.actionExit.triggered.connect(self.onClickExit)\n",
    "        self.actionCredit.triggered.connect(self.onClickCredit)\n",
    "        self.minus.clicked.connect(self.onClickMinus)\n",
    "        self.divide.clicked.connect(self.onClickDivide)\n",
    "        self.modulo.clicked.connect(self.onClickModulo)\n",
    "\n",
    "    def retranslateUi(self, MainWindow):\n",
    "        _translate = QtCore.QCoreApplication.translate\n",
    "        MainWindow.setWindowTitle(_translate(\"MainWindow\", \"PyCalculator\"))\n",
    "        self._8.setText(_translate(\"MainWindow\", \"8\"))\n",
    "        self.ac.setText(_translate(\"MainWindow\", \"ac\"))\n",
    "        self._9.setText(_translate(\"MainWindow\", \"9\"))\n",
    "        self._7.setText(_translate(\"MainWindow\", \"7\"))\n",
    "        self._4.setText(_translate(\"MainWindow\", \"4\"))\n",
    "        self._6.setText(_translate(\"MainWindow\", \"6\"))\n",
    "        self._5.setText(_translate(\"MainWindow\", \"5\"))\n",
    "        self.divide.setText(_translate(\"MainWindow\", \"/\"))\n",
    "        self._1.setText(_translate(\"MainWindow\", \"1\"))\n",
    "        self._3.setText(_translate(\"MainWindow\", \"3\"))\n",
    "        self._2.setText(_translate(\"MainWindow\", \"2\"))\n",
    "        self._0.setText(_translate(\"MainWindow\", \"0\"))\n",
    "        self.dot.setText(_translate(\"MainWindow\", \".\"))\n",
    "        self.times.setText(_translate(\"MainWindow\", \"x\"))\n",
    "        self.minus.setText(_translate(\"MainWindow\", \"-\"))\n",
    "        self.plus.setText(_translate(\"MainWindow\", \"+\"))\n",
    "        self.equal.setText(_translate(\"MainWindow\", \"=\"))\n",
    "        self.modulo.setText(_translate(\"MainWindow\", \"%\"))\n",
    "        self.square.setText(_translate(\"MainWindow\", \"x^2\"))\n",
    "        self.sqrt.setText(_translate(\"MainWindow\", \"sqrt(x)\"))\n",
    "        self.menuFile.setTitle(_translate(\"MainWindow\", \"File\"))\n",
    "        self.actionCredit.setText(_translate(\"MainWindow\", \"Credit\"))\n",
    "        self.actionExit.setText(_translate(\"MainWindow\", \"Exit\"))\n",
    "\n",
    "    def setScrollMax(self):\n",
    "        self.plainTextEdit.verticalScrollBar().setSliderPosition(self.plainTextEdit.verticalScrollBar().maximum())\n",
    "\n",
    "    def onClickAC(self):\n",
    "        self.plainTextEdit.setPlainText(\"\")\n",
    "        self.current = \"\"\n",
    "        self.isFresh = True\n",
    "        self.memory = None\n",
    "        self.setScrollMax()\n",
    "\n",
    "    def onClickDot(self):\n",
    "        if self.current.endswith(\".\"):\n",
    "            return\n",
    "        self.isFresh = False\n",
    "        ptext = self.plainTextEdit.toPlainText()\n",
    "        self.plainTextEdit.setPlainText(ptext + \"0.\")\n",
    "        self.current += \".\"\n",
    "    def onClick9(self):\n",
    "        ptext = self.plainTextEdit.toPlainText()\n",
    "        self.plainTextEdit.setPlainText(ptext + \"9\")\n",
    "        self.current += \"9\"\n",
    "        self.isFresh = False\n",
    "        self.setScrollMax()\n",
    "    def onClick8(self):\n",
    "        ptext = self.plainTextEdit.toPlainText()\n",
    "        self.plainTextEdit.setPlainText(ptext + \"8\")\n",
    "        self.current += \"8\"\n",
    "        self.isFresh = False\n",
    "        self.setScrollMax()\n",
    "    def onClick7(self):\n",
    "        ptext = self.plainTextEdit.toPlainText()\n",
    "        self.plainTextEdit.setPlainText(ptext + \"7\")\n",
    "        self.current += \"7\"\n",
    "        self.isFresh = False\n",
    "        self.setScrollMax()\n",
    "    def onClick6(self):\n",
    "        ptext = self.plainTextEdit.toPlainText()\n",
    "        self.plainTextEdit.setPlainText(ptext + \"6\")\n",
    "        self.current += \"6\"\n",
    "        self.isFresh = False\n",
    "        self.setScrollMax()\n",
    "    def onClick5(self):\n",
    "        ptext = self.plainTextEdit.toPlainText()\n",
    "        self.plainTextEdit.setPlainText(ptext + \"5\")\n",
    "        self.current += \"5\"\n",
    "        self.isFresh = False\n",
    "        self.setScrollMax()\n",
    "    def onClick4(self):\n",
    "        ptext = self.plainTextEdit.toPlainText()\n",
    "        self.plainTextEdit.setPlainText(ptext + \"4\")\n",
    "        self.current += \"4\"\n",
    "        self.isFresh = False\n",
    "        self.setScrollMax()\n",
    "    def onClick3(self):\n",
    "        ptext = self.plainTextEdit.toPlainText()\n",
    "        self.plainTextEdit.setPlainText(ptext + \"3\")\n",
    "        self.current += \"3\"\n",
    "        self.isFresh = False\n",
    "        self.setScrollMax()\n",
    "    def onClick2(self):\n",
    "        ptext = self.plainTextEdit.toPlainText()\n",
    "        self.plainTextEdit.setPlainText(ptext + \"2\")\n",
    "        self.current += \"2\"\n",
    "        self.isFresh = False\n",
    "        self.setScrollMax()\n",
    "    def onClick1(self):\n",
    "        ptext = self.plainTextEdit.toPlainText()\n",
    "        self.plainTextEdit.setPlainText(ptext + \"1\")\n",
    "        self.current += \"1\"\n",
    "        self.isFresh = False\n",
    "        self.setScrollMax()\n",
    "    def onClick0(self):\n",
    "        ptext = self.plainTextEdit.toPlainText()\n",
    "        if self.current != \"\":\n",
    "            self.current += \"0\"\n",
    "            self.plainTextEdit.setPlainText(ptext + \"0\")\n",
    "            self.isFresh = False\n",
    "            self.setScrollMax()\n",
    "\n",
    "    def onClickExit(self):\n",
    "        sys.exit(0)\n",
    "\n",
    "    def onClickCredit(self):\n",
    "        msg = QtWidgets.QMessageBox(parent=self.centralwidget)\n",
    "        msg.setIcon(QtWidgets.QMessageBox.Information)\n",
    "\n",
    "        msg.setText(\"This calculator was written by Fred Amouzgar in Sep 2021.\")\n",
    "        msg.setInformativeText(\"To see the licence expand the Show Details ...\")\n",
    "        msg.setWindowTitle(\"Credit\")\n",
    "\n",
    "        while self.gnu == \"\":\n",
    "            time.sleep(1)\n",
    "        msg.setDetailedText(\"Licence:\\n\" + self.gnu)\n",
    "        msg.setStandardButtons(QtWidgets.QMessageBox.Ok)  # | QMessageBox.Cancel)\n",
    "        msg.exec_()\n",
    "\n",
    "    def onClickSqrt(self):\n",
    "        if self.isFresh: return\n",
    "        if self.current == \"\":\n",
    "            self.current = str(self.memory)\n",
    "        self.memory = math.sqrt(float(self.current))\n",
    "        self.current = \"\"\n",
    "        ptext = self.plainTextEdit.toPlainText() + \"<-- sqrt()\" + \"\\n-----------\\n\"\n",
    "        self.plainTextEdit.setPlainText(ptext + str(self.memory))\n",
    "        self.setScrollMax()\n",
    "\n",
    "    def onClickSquare(self):\n",
    "        if self.isFresh: return\n",
    "        if self.current == \"\":\n",
    "            self.current = str(self.memory)\n",
    "        self.memory = float(self.current)**2\n",
    "        self.current = \"\"\n",
    "        ptext = self.plainTextEdit.toPlainText() + \" ^ 2\" + \"\\n-----------\\n\"\n",
    "        self.plainTextEdit.setPlainText(ptext + str(self.memory))\n",
    "        self.setScrollMax()\n",
    "\n",
    "    def onClickPlus(self):\n",
    "        if self.isFresh:\n",
    "            return\n",
    "        if self.memory == None:\n",
    "            if '.' in self.current: # float\n",
    "                self.memory = float(self.current)\n",
    "            else:\n",
    "                self.memory = int(self.current)\n",
    "            self.current = \"\"\n",
    "            self.op = \"+\"\n",
    "            ptext = \"\"\n",
    "        else:\n",
    "            if self.current != \"\" and '.' in self.current: # float\n",
    "                self.memory += float(self.current)\n",
    "            elif self.current != \"\":\n",
    "                self.memory += int(self.current)\n",
    "            if self.current == \"\":\n",
    "                self.op = \"+\"\n",
    "                self.plainTextEdit.setPlainText(self.plainTextEdit.toPlainText() + \"+\")\n",
    "                self.setScrollMax()\n",
    "                return\n",
    "            self.current=\"\"\n",
    "            self.op = \"+\"\n",
    "            ptext = self.plainTextEdit.toPlainText() + \"\\n-----------\\n\"\n",
    "        self.plainTextEdit.setPlainText(ptext + str(self.memory) + \"+\")\n",
    "        self.setScrollMax()\n",
    "\n",
    "    def onClickMinus(self):\n",
    "        if self.isFresh:\n",
    "            return\n",
    "        if self.memory == None:\n",
    "            if '.' in self.current:  # float\n",
    "                self.memory = float(self.current)\n",
    "            else:\n",
    "                self.memory = int(self.current)\n",
    "            self.current = \"\"\n",
    "            self.op = \"-\"\n",
    "            ptext = \"\"\n",
    "        else:\n",
    "            if self.current != \"\" and '.' in self.current:  # float\n",
    "                self.memory -= float(self.current)\n",
    "            elif self.current != \"\":\n",
    "                self.memory -= int(self.current)\n",
    "            if self.current == \"\":\n",
    "                self.op = \"-\"\n",
    "                self.plainTextEdit.setPlainText(self.plainTextEdit.toPlainText() + \"-\")\n",
    "                self.setScrollMax()\n",
    "                return\n",
    "            self.current = \"\"\n",
    "            self.op = \"+\"\n",
    "            ptext = self.plainTextEdit.toPlainText() + \"\\n-----------\\n\"\n",
    "        self.plainTextEdit.setPlainText(ptext + str(self.memory) + \"-\")\n",
    "        self.setScrollMax()\n",
    "\n",
    "    def onClickTimes(self):\n",
    "        if self.isFresh:\n",
    "            return\n",
    "        if self.memory == None:\n",
    "            if '.' in self.current:  # float\n",
    "                self.memory = float(self.current)\n",
    "            else:\n",
    "                self.memory = int(self.current)\n",
    "            self.current = \"\"\n",
    "            self.op = \"*\"\n",
    "            ptext = \"\"\n",
    "        else:\n",
    "            if self.current != \"\" and '.' in self.current:  # float\n",
    "                self.memory *= float(self.current)\n",
    "            elif self.current != \"\":\n",
    "                self.memory *= int(self.current)\n",
    "            if self.current == \"\":\n",
    "                self.op = \"*\"\n",
    "                self.plainTextEdit.setPlainText(self.plainTextEdit.toPlainText() + \"*\")\n",
    "                self.setScrollMax()\n",
    "                return\n",
    "            self.current = \"\"\n",
    "            self.op = \"*\"\n",
    "            ptext = self.plainTextEdit.toPlainText() + \"\\n-----------\\n\"\n",
    "        self.plainTextEdit.setPlainText(ptext + str(self.memory) + \"*\")\n",
    "        self.setScrollMax()\n",
    "\n",
    "    def onClickDivide(self):\n",
    "        if self.isFresh:\n",
    "            return\n",
    "        if self.memory == None:\n",
    "            if '.' in self.current:  # float\n",
    "                self.memory = float(self.current)\n",
    "            else:\n",
    "                self.memory = int(self.current)\n",
    "            self.current = \"\"\n",
    "            self.op = \"/\"\n",
    "            ptext = \"\"\n",
    "        else:\n",
    "            if self.current != \"\" and '.' in self.current:  # float\n",
    "                self.memory /= float(self.current)\n",
    "            elif self.current != \"\":\n",
    "                self.memory /= int(self.current)\n",
    "            if self.current == \"\":\n",
    "                self.op = \"/\"\n",
    "                self.plainTextEdit.setPlainText(self.plainTextEdit.toPlainText() + \"/\")\n",
    "                self.setScrollMax()\n",
    "                return\n",
    "            self.current = \"\"\n",
    "            self.op = \"/\"\n",
    "            ptext = self.plainTextEdit.toPlainText() + \"\\n-----------\\n\"\n",
    "        self.plainTextEdit.setPlainText(ptext + str(self.memory) + \"/\")\n",
    "        self.setScrollMax()\n",
    "\n",
    "    def onClickModulo(self):\n",
    "        if self.isFresh:\n",
    "            return\n",
    "        if self.memory == None:\n",
    "            if '.' in self.current:  # float\n",
    "                self.memory = float(self.current)\n",
    "            else:\n",
    "                self.memory = int(self.current)\n",
    "            self.current = \"\"\n",
    "            self.op = \"%\"\n",
    "            ptext = \"\"\n",
    "        else:\n",
    "            if self.current != \"\" and '.' in self.current:  # float\n",
    "                self.memory %= float(self.current)\n",
    "            elif self.current != \"\":\n",
    "                self.memory %= int(self.current)\n",
    "            if self.current == \"\":\n",
    "                self.op = \"%\"\n",
    "                self.plainTextEdit.setPlainText(self.plainTextEdit.toPlainText() + \"%\")\n",
    "                self.setScrollMax()\n",
    "                return\n",
    "            self.current = \"\"\n",
    "            self.op = \"%\"\n",
    "            ptext = self.plainTextEdit.toPlainText() + \"\\n-----------\\n\"\n",
    "        self.plainTextEdit.setPlainText(ptext + str(self.memory) + \"%\")\n",
    "        self.setScrollMax()\n",
    "\n",
    "    def onClickEqual(self):\n",
    "        if self.op == \"\" or self.isFresh or self.current == \"\":\n",
    "            return\n",
    "        if self.op == \"+\":\n",
    "            if '.' in self.current: # float\n",
    "                self.memory += float(self.current)\n",
    "            else:\n",
    "                self.memory += int(self.current)\n",
    "            self.current = \"\"\n",
    "            self.op = \"\"\n",
    "            ptext = self.plainTextEdit.toPlainText() + \"\\n-----------\\n\"\n",
    "\n",
    "        elif self.op == \"*\":\n",
    "            if '.' in self.current: # float\n",
    "                self.memory *= float(self.current)\n",
    "            else:\n",
    "                self.memory *= int(self.current)\n",
    "            self.current = \"\"\n",
    "            self.op = \"\"\n",
    "            ptext = self.plainTextEdit.toPlainText() + \"\\n-----------\\n\"\n",
    "\n",
    "        elif self.op == \"-\":\n",
    "            if '.' in self.current: # float\n",
    "                self.memory -= float(self.current)\n",
    "            else:\n",
    "                self.memory -= int(self.current)\n",
    "            self.current = \"\"\n",
    "            self.op = \"\"\n",
    "            ptext = self.plainTextEdit.toPlainText() + \"\\n-----------\\n\"\n",
    "\n",
    "        elif self.op == \"/\":\n",
    "            if '.' in self.current: # float\n",
    "                self.memory /= float(self.current)\n",
    "            else:\n",
    "                self.memory /= int(self.current)\n",
    "            self.current = \"\"\n",
    "            self.op = \"\"\n",
    "            ptext = self.plainTextEdit.toPlainText() + \"\\n-----------\\n\"\n",
    "\n",
    "        elif self.op == \"%\":\n",
    "            if '.' in self.current: # float\n",
    "                self.memory %= float(self.current)\n",
    "            else:\n",
    "                self.memory %= int(self.current)\n",
    "            self.current = \"\"\n",
    "            self.op = \"\"\n",
    "            ptext = self.plainTextEdit.toPlainText() + \"\\n-----------\\n\"\n",
    "\n",
    "        self.plainTextEdit.setPlainText(ptext + str(self.memory) + \"\\n\")\n",
    "        self.setScrollMax()\n",
    "\n",
    "    def download_gnu(self):\n",
    "        import urllib.request\n",
    "        try:\n",
    "            with urllib.request.urlopen(\"https://www.gnu.org/licenses/gpl-3.0.txt\") as f:\n",
    "                self.gnu = f.read().decode(\"utf-8\")\n",
    "        except Exception as e:\n",
    "            self.gnu = \"Unable to load the GNU/GPL 3 Licence.\"\n",
    "        return\n",
    "\n",
    "if __name__ == \"__main__\":\n",
    "    import sys\n",
    "    app = QtWidgets.QApplication(sys.argv)\n",
    "    MainWindow = QtWidgets.QMainWindow()\n",
    "    ui = Ui_MainWindow()\n",
    "    ui.setupUi(MainWindow)\n",
    "    MainWindow.show()\n",
    "    sys.exit(app.exec_())"
   ]
  },
  {
   "cell_type": "markdown",
   "metadata": {},
   "source": [
    "<hr>"
   ]
  }
 ],
 "metadata": {
  "kernelspec": {
   "display_name": "Python 3",
   "language": "python",
   "name": "python3"
  },
  "language_info": {
   "codemirror_mode": {
    "name": "ipython",
    "version": 3
   },
   "file_extension": ".py",
   "mimetype": "text/x-python",
   "name": "python",
   "nbconvert_exporter": "python",
   "pygments_lexer": "ipython3",
   "version": "3.8.3"
  }
 },
 "nbformat": 4,
 "nbformat_minor": 4
}
