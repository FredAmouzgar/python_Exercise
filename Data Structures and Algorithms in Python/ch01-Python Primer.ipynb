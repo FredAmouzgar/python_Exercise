{
 "cells": [
  {
   "cell_type": "markdown",
   "metadata": {},
   "source": [
    "# 1.12 Exercises\n",
    "For help with exercises, please visit this [website](https://www.wiley.com/college/goodrich) ,"
   ]
  },
  {
   "cell_type": "markdown",
   "metadata": {},
   "source": [
    "### Reinforcement\n",
    "\n",
    "__R-1.1__ Write a short Python function, is multiple(n, m), that takes two integer values and returns True if n is a multiple of m, that is, n = mi for some integer i, and False otherwise."
   ]
  },
  {
   "cell_type": "code",
   "execution_count": 1,
   "metadata": {},
   "outputs": [],
   "source": [
    "def multiple(n: int, m: int) -> bool:\n",
    "    return n / m == n // m\n",
    "\n",
    "assert multiple(10,5)\n",
    "assert not multiple(5,4)\n",
    "assert not multiple(7,98)\n",
    "assert not multiple(49,5)\n",
    "assert multiple(81,27)"
   ]
  },
  {
   "cell_type": "markdown",
   "metadata": {},
   "source": [
    "__R-1.2__ Write a short Python function, is even(k), that takes an integer value and returns True if k is even, and False otherwise. However, your function cannot use the multiplication, modulo, or division operators."
   ]
  },
  {
   "cell_type": "code",
   "execution_count": 2,
   "metadata": {},
   "outputs": [],
   "source": [
    "def even(k: int) -> bool:\n",
    "    return k == (k >> 1) << 1\n",
    "\n",
    "assert even(12)\n",
    "assert even(76)\n",
    "assert not even(163)"
   ]
  },
  {
   "cell_type": "markdown",
   "metadata": {},
   "source": [
    "__R-1.3__ Write a short Python function, minmax(data), that takes a sequence of one or more numbers, and returns the smallest and largest numbers, in the form of a tuple of length two. Do not use the built-in functions min or max in implementing your solution."
   ]
  },
  {
   "cell_type": "code",
   "execution_count": 3,
   "metadata": {},
   "outputs": [],
   "source": [
    "def minmax(data: list) -> tuple:\n",
    "    min_, max_ = data[0], data[0]\n",
    "    for e in data:\n",
    "        if e > max_:\n",
    "            max_ = e\n",
    "        if e < min_:\n",
    "            min_ = e\n",
    "    return min_, max_\n",
    "\n",
    "assert minmax([12,14,2,0,11]) == (0, 14)\n",
    "assert minmax([56,4,2,-19,22,11]) == (-19, 56)"
   ]
  },
  {
   "cell_type": "markdown",
   "metadata": {},
   "source": [
    "__R-1.4__ Write a short Python function that takes a positive integer n and returns the sum of the squares of all the positive integers smaller than n."
   ]
  },
  {
   "cell_type": "code",
   "execution_count": 4,
   "metadata": {},
   "outputs": [],
   "source": [
    "def sum_of_squared_less_than(n: int) -> int:\n",
    "    if n <= 2: return 1\n",
    "    return sum_of_squared_less_than(n-1) + (n-1)**2\n",
    "\n",
    "assert sum_of_squared_less_than(5) == sum([i**2 for i in range(5)])\n",
    "assert sum_of_squared_less_than(10) == sum([i**2 for i in range(10)])"
   ]
  },
  {
   "cell_type": "markdown",
   "metadata": {},
   "source": [
    "__R-1.5__ Give a single command that computes the sum from Exercise R-1.4, relying on Python’s comprehension syntax and the built-in sum function."
   ]
  },
  {
   "cell_type": "code",
   "execution_count": 5,
   "metadata": {},
   "outputs": [],
   "source": [
    "f = lambda n: sum([i**2 for i in range(n)])\n",
    "\n",
    "assert sum_of_squared_less_than(10) == f(10)"
   ]
  },
  {
   "cell_type": "markdown",
   "metadata": {},
   "source": [
    "__R-1.6__ Write a short Python function that takes a positive integer n and returns the sum of the squares of all the odd positive integers smaller than n."
   ]
  },
  {
   "cell_type": "code",
   "execution_count": 6,
   "metadata": {},
   "outputs": [],
   "source": [
    "def sum_of_squared_odd_less_than(n: int) -> int:\n",
    "    total = 0\n",
    "    for i in range(n):\n",
    "        if i % 2 != 0: total += i**2\n",
    "    return total\n",
    "\n",
    "assert sum_of_squared_odd_less_than(10) == sum([i**2 for i in [1,3,5,7,9]])"
   ]
  },
  {
   "cell_type": "markdown",
   "metadata": {},
   "source": [
    "__R-1.7__ Give a single command that computes the sum from Exercise R-1.6, relying on Python’s comprehension syntax and the built-in sum function."
   ]
  },
  {
   "cell_type": "code",
   "execution_count": 7,
   "metadata": {},
   "outputs": [],
   "source": [
    "f = lambda n: sum([i**2 for i in range(n) if i%2!=0])\n",
    "\n",
    "assert sum_of_squared_odd_less_than(10) == f(10)"
   ]
  },
  {
   "cell_type": "markdown",
   "metadata": {},
   "source": [
    "__R-1.8__ Python allows negative integers to be used as indices into a sequence, such as a string. If string s has length n, and expression s\\[k\\] is used for index −n ≤ k < 0, what is the equivalent index j ≥ 0 such that s\\[j\\] references the same element?\n",
    "\n",
    "__Answer__: _s\\[j - len(j)\\]_"
   ]
  },
  {
   "cell_type": "code",
   "execution_count": 8,
   "metadata": {},
   "outputs": [],
   "source": [
    "s = list(range(10))\n",
    "\n",
    "for j in range(10):\n",
    "    assert s[j] == s[j - len(s)]"
   ]
  },
  {
   "cell_type": "markdown",
   "metadata": {},
   "source": [
    "__R-1.9__ What parameters should be sent to the range constructor, to produce a range with values 50, 60, 70, 80?"
   ]
  },
  {
   "cell_type": "code",
   "execution_count": 9,
   "metadata": {},
   "outputs": [
    {
     "data": {
      "text/plain": [
       "[50, 60, 70, 80]"
      ]
     },
     "execution_count": 9,
     "metadata": {},
     "output_type": "execute_result"
    }
   ],
   "source": [
    "list(range(50,81,10))"
   ]
  },
  {
   "cell_type": "markdown",
   "metadata": {},
   "source": [
    "__R-1.10__ What parameters should be sent to the range constructor, to produce a range with values 8, 6, 4, 2, 0, −2, −4, −6, −8?"
   ]
  },
  {
   "cell_type": "code",
   "execution_count": 10,
   "metadata": {
    "scrolled": true
   },
   "outputs": [
    {
     "data": {
      "text/plain": [
       "[8, 6, 4, 2, 0, -2, -4, -6, -8]"
      ]
     },
     "execution_count": 10,
     "metadata": {},
     "output_type": "execute_result"
    }
   ],
   "source": [
    "list(range(8, -9, -2))"
   ]
  },
  {
   "cell_type": "markdown",
   "metadata": {},
   "source": [
    "__R-1.11__ Demonstrate how to use Python’s list comprehension syntax to produce the list \\[1, 2, 4, 8, 16, 32, 64, 128, 256\\]."
   ]
  },
  {
   "cell_type": "code",
   "execution_count": 11,
   "metadata": {},
   "outputs": [
    {
     "data": {
      "text/plain": [
       "[1, 2, 4, 8, 16, 32, 64, 128, 256]"
      ]
     },
     "execution_count": 11,
     "metadata": {},
     "output_type": "execute_result"
    }
   ],
   "source": [
    "[2**i for i in range(9)]"
   ]
  },
  {
   "cell_type": "markdown",
   "metadata": {},
   "source": [
    "__R-1.12__ Python’s random module includes a function choice(data) that returns a random element from a non-empty sequence. The random module includes a more basic function randrange, with parameterization similar to the built-in range function, that return a random choice from the given range. Using only the randrange function, implement your own version of the choice function."
   ]
  },
  {
   "cell_type": "code",
   "execution_count": 12,
   "metadata": {
    "scrolled": true
   },
   "outputs": [
    {
     "data": {
      "text/plain": [
       "10"
      ]
     },
     "execution_count": 12,
     "metadata": {},
     "output_type": "execute_result"
    }
   ],
   "source": [
    "import random\n",
    "\n",
    "def choice(s: list) -> object:\n",
    "    if s:\n",
    "        return s[random.randrange(len(s))]\n",
    "    else:\n",
    "        raise ValueError(\"Empty list.\")\n",
    "\n",
    "choice([10,20,30,40])"
   ]
  },
  {
   "cell_type": "markdown",
   "metadata": {},
   "source": [
    "### Creativity"
   ]
  },
  {
   "cell_type": "markdown",
   "metadata": {},
   "source": [
    "__C-1.13__ Write a pseudo-code description of a function that reverses a list of n integers, so that the numbers are listed in the opposite order than they were before, and compare this method to an equivalent Python function\n",
    "for doing the same thing."
   ]
  },
  {
   "cell_type": "code",
   "execution_count": 13,
   "metadata": {},
   "outputs": [],
   "source": [
    "def reverse_(s: list):\n",
    "    for i in range(len(s)-1, -1, -1):\n",
    "        yield s[i]\n",
    "\n",
    "assert list(reverse_([10,12,3,9,4])) == list(reversed([10,12,3,9,4]))"
   ]
  },
  {
   "cell_type": "markdown",
   "metadata": {},
   "source": [
    "__C-1.14__ Write a short Python function that takes a sequence of integer values and determines if there is a distinct pair of numbers in the sequence whose product is odd."
   ]
  },
  {
   "cell_type": "code",
   "execution_count": 14,
   "metadata": {},
   "outputs": [],
   "source": [
    "def is_odd_pair(s: list) -> bool:\n",
    "    for i in range(len(s)):\n",
    "        for j in range(i+1, len(s)):\n",
    "            if s[i] % 2 == 1 and s[j] % 2 == 1:\n",
    "                return True\n",
    "\n",
    "assert is_odd_pair([2,3,4,5])\n",
    "assert is_odd_pair([23, 57, 22, 23])\n",
    "assert not is_odd_pair([2,4,6,8,10])"
   ]
  },
  {
   "cell_type": "markdown",
   "metadata": {},
   "source": [
    "__C-1.15__ Write a Python function that takes a sequence of numbers and determines if all the numbers are different from each other (that is, they are distinct)."
   ]
  },
  {
   "cell_type": "code",
   "execution_count": 15,
   "metadata": {},
   "outputs": [
    {
     "name": "stdout",
     "output_type": "stream",
     "text": [
      "CPU times: user 15.5 s, sys: 15.2 ms, total: 15.6 s\n",
      "Wall time: 15.6 s\n",
      "CPU times: user 6.81 ms, sys: 0 ns, total: 6.81 ms\n",
      "Wall time: 6.79 ms\n"
     ]
    },
    {
     "data": {
      "text/plain": [
       "True"
      ]
     },
     "execution_count": 15,
     "metadata": {},
     "output_type": "execute_result"
    }
   ],
   "source": [
    "def is_all_unique(s: list) -> bool:\n",
    "    for i in range(len(s)):\n",
    "        for j in range(i+1, len(s)):\n",
    "            if s[i] == s[j]:\n",
    "                return False\n",
    "    return True\n",
    "\n",
    "def is_all_unique_quick(s: list) -> bool:\n",
    "    s.sort()\n",
    "    for i in range(1, len(s)):\n",
    "        if s[i] == s[i-1]:\n",
    "            return False\n",
    "    return True\n",
    "\n",
    "assert not is_all_unique_quick([12,12])\n",
    "assert not is_all_unique_quick([65, 23, 77, 14, 65])\n",
    "assert is_all_unique_quick([35, 41, 47, 11, 65])\n",
    "\n",
    "# Benchmarking\n",
    "import random, time\n",
    "\n",
    "random_data = [random.randint(0, 1_000_000_000_000) for _ in range(20_000)]\n",
    "\n",
    "%time is_all_unique(random_data)  # O(n^2) time complexity\n",
    "%time is_all_unique_quick(random_data)  # O(n.log(n)) time complexity"
   ]
  },
  {
   "cell_type": "markdown",
   "metadata": {},
   "source": [
    "__C-1.16__ In our implementation of the scale function (page 25), the body of the loop executes the command data[j] = factor. We have discussed that numeric types are immutable, and that use of the = operator in this context causes\n",
    "the creation of a new instance (not the mutation of an existing instance). How is it still possible, then, that our implementation of scale changes the actual parameter sent by the caller?"
   ]
  },
  {
   "cell_type": "markdown",
   "metadata": {},
   "source": [
    "__Answer__ _It creates a new instance of the int class consists of $data[j] \\times factor$ value. The pointer will be then corrected to the new value and the old value will be released. The old value will be garbage collected by the compiler._"
   ]
  },
  {
   "cell_type": "markdown",
   "metadata": {},
   "source": [
    "__C-1.17__ Had we implemented the scale function (page 25) as follows, does it work properly?\n",
    "```python\n",
    "def scale(data, factor):\n",
    "    for val in data:\n",
    "        val *= factor\n",
    "```\n",
    "Explain why or why not."
   ]
  },
  {
   "cell_type": "markdown",
   "metadata": {},
   "source": [
    "__Answer__ No, it doesn't. Because $val$ variable is temporary and its content will be discarded in the next iteration of the loop. It never corrects the pointers of the data elements to new values."
   ]
  },
  {
   "cell_type": "code",
   "execution_count": 16,
   "metadata": {
    "scrolled": true
   },
   "outputs": [
    {
     "name": "stdout",
     "output_type": "stream",
     "text": [
      "Data after Scale: [1, 2, 3, 4]\n",
      "Data after Good Scale: [5, 10, 15, 20]\n"
     ]
    }
   ],
   "source": [
    "def good_scale(data, factor):\n",
    "    for i in range(len(data)):\n",
    "        data[i] *= factor\n",
    "        \n",
    "def scale(data, factor):\n",
    "    for val in data:\n",
    "        val *= factor\n",
    "\n",
    "data = [1,2,3,4]\n",
    "factor = 5\n",
    "scale(data, factor)\n",
    "print(\"Data after Scale:\", data)\n",
    "good_scale(data, factor)\n",
    "print(\"Data after Good Scale:\", data)"
   ]
  },
  {
   "cell_type": "markdown",
   "metadata": {},
   "source": [
    "__C-1.18__ Demonstrate how to use Python’s list comprehension syntax to produce the list \\[0, 2, 6, 12, 20, 30, 42, 56, 72, 90\\]."
   ]
  },
  {
   "cell_type": "code",
   "execution_count": 17,
   "metadata": {},
   "outputs": [
    {
     "data": {
      "text/plain": [
       "[0, 2, 6, 12, 20, 30, 42, 56, 72, 90]"
      ]
     },
     "execution_count": 17,
     "metadata": {},
     "output_type": "execute_result"
    }
   ],
   "source": [
    "[x*(x+1) for x in range(0, 10)]"
   ]
  },
  {
   "cell_type": "markdown",
   "metadata": {},
   "source": [
    "__C-1.19__ Demonstrate how to use Python’s list comprehension syntax to produce the list \\[ a , b , c , ..., z \\], but without having to type all 26 such characters literally."
   ]
  },
  {
   "cell_type": "code",
   "execution_count": 18,
   "metadata": {
    "scrolled": true
   },
   "outputs": [
    {
     "name": "stdout",
     "output_type": "stream",
     "text": [
      "['a', 'b', 'c', 'd', 'e', 'f', 'g', 'h', 'i', 'j', 'k', 'l', 'm', 'n', 'o', 'p', 'q', 'r', 's', 't', 'u', 'v', 'w', 'x', 'y', 'z']\n"
     ]
    }
   ],
   "source": [
    "print([chr(x) for x in range(97, 123)])"
   ]
  },
  {
   "cell_type": "markdown",
   "metadata": {},
   "source": [
    "__C-1.20__ Python’s random module includes a function shuﬄe(data) that accepts a list of elements and randomly reorders the elements so that each possible order occurs with equal probability. The random module includes a more basic function randint(a, b) that returns a uniformly random integer from a to b (including both endpoints). Using only the randint function, implement your own version of the shuﬄe function."
   ]
  },
  {
   "cell_type": "code",
   "execution_count": 19,
   "metadata": {
    "scrolled": true
   },
   "outputs": [
    {
     "data": {
      "text/plain": [
       "[7, 16, 3, 8, 6, 0, 15, 19, 5, 2, 14, 17, 4, 11, 10, 1, 12, 18, 9, 13]"
      ]
     },
     "execution_count": 19,
     "metadata": {},
     "output_type": "execute_result"
    }
   ],
   "source": [
    "import random\n",
    "\n",
    "def shuffle(data: list) -> list:\n",
    "    for src in range(len(data)):\n",
    "        dest = random.randint(0,len(data)-1)\n",
    "        data[src], data[dest] = data[dest], data[src]\n",
    "    return data\n",
    "\n",
    "shuffle(list(range(20)))"
   ]
  },
  {
   "cell_type": "markdown",
   "metadata": {},
   "source": [
    "__C-1.21__ Write a Python program that repeatedly reads lines from standard input until an EOFError is raised, and then outputs those lines in reverse order (a user can indicate end of input by typing ctrl-D)."
   ]
  },
  {
   "cell_type": "markdown",
   "metadata": {},
   "source": [
    "```python\n",
    "s = []\n",
    "try:\n",
    "    while True:\n",
    "        line = input(\"Enter a line:\")\n",
    "        s.append(line)\n",
    "except EOFError:\n",
    "    print(list(reversed(s)))\n",
    "```"
   ]
  },
  {
   "cell_type": "markdown",
   "metadata": {},
   "source": [
    "__C-1.22__ Write a short Python program that takes two arrays a and b of length n storing int values, and returns the <font color=\"red\"><strike>dot product</strike></font> <a href=\"https://en.wikipedia.org/wiki/Hadamard_product_(matrices)\">Hadamard product</a> of a and b. That is, it returns an array c of length n such that c\\[i\\] = a\\[i\\] · b\\[i\\], for i = 0, $\\ldots$ , n − 1."
   ]
  },
  {
   "cell_type": "code",
   "execution_count": 20,
   "metadata": {},
   "outputs": [],
   "source": [
    "def dot_prod(a: list, b: list):\n",
    "    if len(a) != len(b): raise IndexError(\"Size mismatch between arrays.\")\n",
    "    return [a[i]*b[i] for i in range(len(a))]\n",
    "\n",
    "assert dot_prod([1,2,3], [1,2, 3]) == [1, 4, 9]"
   ]
  },
  {
   "cell_type": "markdown",
   "metadata": {},
   "source": [
    "__C-1.23__ Give an example of a Python code fragment that attempts to write an element to a list based on an index that may be out of bounds. If that index is out of bounds, the program should catch the exception that results, and\n",
    "print the following error message:\n",
    "\n",
    "“Don’t try buffer overflow attacks in Python!”"
   ]
  },
  {
   "cell_type": "code",
   "execution_count": 21,
   "metadata": {},
   "outputs": [
    {
     "name": "stdout",
     "output_type": "stream",
     "text": [
      "list assignment index out of range\n",
      "Don't try buffer overflow attacks in Python!\n"
     ]
    }
   ],
   "source": [
    "a = [1,2]\n",
    "new_e = 3\n",
    "idx = 4\n",
    "try:\n",
    "    a[idx] = new_e\n",
    "except IndexError as e:\n",
    "    print(e)\n",
    "    print(\"Don't try buffer overflow attacks in Python!\")"
   ]
  },
  {
   "cell_type": "markdown",
   "metadata": {},
   "source": [
    "__C-1.24__ Write a short Python function that counts the number of vowels in a given character string."
   ]
  },
  {
   "cell_type": "code",
   "execution_count": 22,
   "metadata": {},
   "outputs": [],
   "source": [
    "def count_vowels(s):\n",
    "    return len([e for e in s if e in \"aeiou\"])\n",
    "\n",
    "assert count_vowels(\"hey this is great!\") == 5\n",
    "assert count_vowels(\"yay! This is awesome\") == 7"
   ]
  },
  {
   "cell_type": "markdown",
   "metadata": {},
   "source": [
    "__C-1.25__ Write a short Python function that takes a string s, representing a sentence, and returns a copy of the string with all punctuation removed. For example, if given the string \"Let s try, Mike.\", this function would return \"Lets try Mike\"."
   ]
  },
  {
   "cell_type": "code",
   "execution_count": 23,
   "metadata": {},
   "outputs": [
    {
     "data": {
      "text/plain": [
       "'Let s try Mike'"
      ]
     },
     "execution_count": 23,
     "metadata": {},
     "output_type": "execute_result"
    }
   ],
   "source": [
    "def punc_remover(s: str) -> str:\n",
    "    return \"\".join([e for e in s if e not in \",.:;\"])\n",
    "\n",
    "punc_remover(\"Let s try, Mike.\")"
   ]
  },
  {
   "cell_type": "markdown",
   "metadata": {},
   "source": [
    "__C-1.26__ Write a short program that takes as input three integers, a, b, and c, from the console and determines if they can be used in a correct arithmetic formula (in the given order), like “a + b = c,” “a = b − c,” or “a ∗ b = c.”"
   ]
  },
  {
   "cell_type": "code",
   "execution_count": 24,
   "metadata": {},
   "outputs": [],
   "source": [
    "def is_arithmetic(a, b, c):\n",
    "    return a + b == c or a == b - c or a * b == c\n",
    "\n",
    "assert is_arithmetic(1,2,3)"
   ]
  },
  {
   "cell_type": "markdown",
   "metadata": {},
   "source": [
    "__C-1.27__ In Section 1.8, we provided three different implementations of a generator that computes factors of a given integer. The third of those implementations, from page 41, was the most efﬁcient, but we noted that it did not yield the factors in increasing order. Modify the generator so that it reports factors in increasing order, while maintaining its general performance advantages."
   ]
  },
  {
   "cell_type": "code",
   "execution_count": 25,
   "metadata": {},
   "outputs": [
    {
     "name": "stdout",
     "output_type": "stream",
     "text": [
      "[1, 2, 4, 8, 16, 19, 38, 76, 113, 152, 226, 304, 452, 904, 1808, 2147, 4294, 8588, 17176, 34352]\n",
      "[1, 2, 4, 8, 16, 32, 64, 128, 256]\n"
     ]
    }
   ],
   "source": [
    "def factors(n: int):\n",
    "    k = 1\n",
    "    rest = []\n",
    "    while k * k <= n:\n",
    "        if n % k == 0:\n",
    "            yield k\n",
    "            if k * k != n:\n",
    "                rest.append(n // k)\n",
    "        k += 1\n",
    "    for e in reversed(rest):\n",
    "        yield e\n",
    "\n",
    "print(list(factors(34352)))\n",
    "print(list(factors(256)))"
   ]
  },
  {
   "cell_type": "markdown",
   "metadata": {},
   "source": [
    "__C-1.28__ The p-norm of a vector $v = (v_1 , v_2 , \\ldots , v_n)$ in n-dimensional space is deﬁned as\n",
    "\n",
    "$||v|| = \\sqrt[p]{v_1^p + v_2^p + \\ldots + v_n^p}$\n",
    "\n",
    "For the special case of p = 2, this results in the traditional Euclidean norm, which represents the length of the vector. For example, the Euclidean norm of a two-dimensional with coordinates (4, 3) has a Euclidean norm of $\\sqrt{4 + 3} = \\sqrt{16 + 9} = \\sqrt{25} = 5$. Give an implementation of a function named norm such that norm(v, p) returns the p-norm value of v and norm(v) returns the Euclidean norm of v. You may assume that v is a list of numbers."
   ]
  },
  {
   "cell_type": "code",
   "execution_count": 26,
   "metadata": {},
   "outputs": [],
   "source": [
    "def norm(v: list, p=2) -> int:\n",
    "    return (sum([e**p for e in v]))**(1/p)\n",
    "\n",
    "assert norm([4,3]) == 5"
   ]
  },
  {
   "cell_type": "markdown",
   "metadata": {},
   "source": [
    "### Projects"
   ]
  },
  {
   "cell_type": "markdown",
   "metadata": {},
   "source": [
    "__P-1.29__ Write a Python program that outputs all possible strings formed by using the characters c , a , t , d , o , and g exactly once."
   ]
  },
  {
   "cell_type": "code",
   "execution_count": null,
   "metadata": {},
   "outputs": [],
   "source": []
  },
  {
   "cell_type": "markdown",
   "metadata": {},
   "source": [
    "<hr>"
   ]
  }
 ],
 "metadata": {
  "kernelspec": {
   "display_name": "Python 3",
   "language": "python",
   "name": "python3"
  },
  "language_info": {
   "codemirror_mode": {
    "name": "ipython",
    "version": 3
   },
   "file_extension": ".py",
   "mimetype": "text/x-python",
   "name": "python",
   "nbconvert_exporter": "python",
   "pygments_lexer": "ipython3",
   "version": "3.8.3"
  }
 },
 "nbformat": 4,
 "nbformat_minor": 4
}
