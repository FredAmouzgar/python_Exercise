{
 "cells": [
  {
   "cell_type": "markdown",
   "metadata": {},
   "source": [
    "# 1.12 Exercises\n",
    "For help with exercises, please visit this [website](https://www.wiley.com/college/goodrich) ,"
   ]
  },
  {
   "cell_type": "markdown",
   "metadata": {},
   "source": [
    "### Reinforcement\n",
    "\n",
    "__R-1.1__ Write a short Python function, is multiple(n, m), that takes two integer values and returns True if n is a multiple of m, that is, n = mi for some integer i, and False otherwise."
   ]
  },
  {
   "cell_type": "code",
   "execution_count": 1,
   "metadata": {},
   "outputs": [],
   "source": [
    "def multiple(n: int, m: int) -> bool:\n",
    "    return n / m == n // m\n",
    "\n",
    "assert multiple(10,5)\n",
    "assert not multiple(5,4)\n",
    "assert not multiple(7,98)\n",
    "assert not multiple(49,5)\n",
    "assert multiple(81,27)"
   ]
  },
  {
   "cell_type": "markdown",
   "metadata": {},
   "source": [
    "__R-1.2__ Write a short Python function, is even(k), that takes an integer value and returns True if k is even, and False otherwise. However, your function cannot use the multiplication, modulo, or division operators."
   ]
  },
  {
   "cell_type": "code",
   "execution_count": 2,
   "metadata": {},
   "outputs": [],
   "source": [
    "def even(k: int) -> bool:\n",
    "    return k == (k >> 1) << 1\n",
    "\n",
    "assert even(12)\n",
    "assert even(76)\n",
    "assert not even(163)"
   ]
  },
  {
   "cell_type": "markdown",
   "metadata": {},
   "source": [
    "__R-1.3__ Write a short Python function, minmax(data), that takes a sequence of one or more numbers, and returns the smallest and largest numbers, in the form of a tuple of length two. Do not use the built-in functions min or max in implementing your solution."
   ]
  },
  {
   "cell_type": "code",
   "execution_count": 3,
   "metadata": {},
   "outputs": [],
   "source": [
    "def minmax(data: list) -> tuple:\n",
    "    min_, max_ = data[0], data[0]\n",
    "    for e in data:\n",
    "        if e > max_:\n",
    "            max_ = e\n",
    "        if e < min_:\n",
    "            min_ = e\n",
    "    return min_, max_\n",
    "\n",
    "assert minmax([12,14,2,0,11]) == (0, 14)\n",
    "assert minmax([56,4,2,-19,22,11]) == (-19, 56)"
   ]
  },
  {
   "cell_type": "markdown",
   "metadata": {},
   "source": [
    "__R-1.4__ Write a short Python function that takes a positive integer n and returns the sum of the squares of all the positive integers smaller than n."
   ]
  },
  {
   "cell_type": "code",
   "execution_count": 4,
   "metadata": {},
   "outputs": [],
   "source": [
    "def sum_of_squared_less_than(n: int) -> int:\n",
    "    if n <= 2: return 1\n",
    "    return sum_of_squared_less_than(n-1) + (n-1)**2\n",
    "\n",
    "assert sum_of_squared_less_than(5) == sum([i**2 for i in range(5)])\n",
    "assert sum_of_squared_less_than(10) == sum([i**2 for i in range(10)])"
   ]
  },
  {
   "cell_type": "markdown",
   "metadata": {},
   "source": [
    "__R-1.5__ Give a single command that computes the sum from Exercise R-1.4, relying on Python’s comprehension syntax and the built-in sum function."
   ]
  },
  {
   "cell_type": "code",
   "execution_count": 5,
   "metadata": {},
   "outputs": [],
   "source": [
    "f = lambda n: sum([i**2 for i in range(n)])\n",
    "\n",
    "assert sum_of_squared_less_than(10) == f(10)"
   ]
  },
  {
   "cell_type": "markdown",
   "metadata": {},
   "source": [
    "__R-1.6__ Write a short Python function that takes a positive integer n and returns the sum of the squares of all the odd positive integers smaller than n."
   ]
  },
  {
   "cell_type": "code",
   "execution_count": 6,
   "metadata": {},
   "outputs": [],
   "source": [
    "def sum_of_squared_odd_less_than(n: int) -> int:\n",
    "    total = 0\n",
    "    for i in range(n):\n",
    "        if i % 2 != 0: total += i**2\n",
    "    return total\n",
    "\n",
    "assert sum_of_squared_odd_less_than(10) == sum([i**2 for i in [1,3,5,7,9]])"
   ]
  },
  {
   "cell_type": "markdown",
   "metadata": {},
   "source": [
    "__R-1.7__ Give a single command that computes the sum from Exercise R-1.6, relying on Python’s comprehension syntax and the built-in sum function."
   ]
  },
  {
   "cell_type": "code",
   "execution_count": 7,
   "metadata": {},
   "outputs": [],
   "source": [
    "f = lambda n: sum([i**2 for i in range(n) if i%2!=0])\n",
    "\n",
    "assert sum_of_squared_odd_less_than(10) == f(10)"
   ]
  },
  {
   "cell_type": "markdown",
   "metadata": {},
   "source": [
    "__R-1.8__ Python allows negative integers to be used as indices into a sequence, such as a string. If string s has length n, and expression s\\[k\\] is used for index −n ≤ k < 0, what is the equivalent index j ≥ 0 such that s\\[j\\] references the same element?\n",
    "\n",
    "__Answer__: _s\\[j - len(j)\\]_"
   ]
  },
  {
   "cell_type": "code",
   "execution_count": 8,
   "metadata": {},
   "outputs": [],
   "source": [
    "s = list(range(10))\n",
    "\n",
    "for j in range(10):\n",
    "    assert s[j] == s[j - len(s)]"
   ]
  },
  {
   "cell_type": "markdown",
   "metadata": {},
   "source": [
    "__R-1.9__ What parameters should be sent to the range constructor, to produce a range with values 50, 60, 70, 80?"
   ]
  },
  {
   "cell_type": "code",
   "execution_count": 9,
   "metadata": {},
   "outputs": [
    {
     "data": {
      "text/plain": [
       "[50, 60, 70, 80]"
      ]
     },
     "execution_count": 9,
     "metadata": {},
     "output_type": "execute_result"
    }
   ],
   "source": [
    "list(range(50,81,10))"
   ]
  },
  {
   "cell_type": "markdown",
   "metadata": {},
   "source": [
    "__R-1.10__ What parameters should be sent to the range constructor, to produce a range with values 8, 6, 4, 2, 0, −2, −4, −6, −8?"
   ]
  },
  {
   "cell_type": "code",
   "execution_count": 10,
   "metadata": {
    "scrolled": true
   },
   "outputs": [
    {
     "data": {
      "text/plain": [
       "[8, 6, 4, 2, 0, -2, -4, -6, -8]"
      ]
     },
     "execution_count": 10,
     "metadata": {},
     "output_type": "execute_result"
    }
   ],
   "source": [
    "list(range(8, -9, -2))"
   ]
  },
  {
   "cell_type": "markdown",
   "metadata": {},
   "source": [
    "__R-1.11__ Demonstrate how to use Python’s list comprehension syntax to produce the list \\[1, 2, 4, 8, 16, 32, 64, 128, 256\\]."
   ]
  },
  {
   "cell_type": "code",
   "execution_count": 11,
   "metadata": {},
   "outputs": [
    {
     "data": {
      "text/plain": [
       "[1, 2, 4, 8, 16, 32, 64, 128, 256]"
      ]
     },
     "execution_count": 11,
     "metadata": {},
     "output_type": "execute_result"
    }
   ],
   "source": [
    "[2**i for i in range(9)]"
   ]
  },
  {
   "cell_type": "markdown",
   "metadata": {},
   "source": [
    "__R-1.12__ Python’s random module includes a function choice(data) that returns a random element from a non-empty sequence. The random module includes a more basic function randrange, with parameterization similar to the built-in range function, that return a random choice from the given range. Using only the randrange function, implement your own version of the choice function."
   ]
  },
  {
   "cell_type": "code",
   "execution_count": 12,
   "metadata": {
    "scrolled": true
   },
   "outputs": [
    {
     "data": {
      "text/plain": [
       "30"
      ]
     },
     "execution_count": 12,
     "metadata": {},
     "output_type": "execute_result"
    }
   ],
   "source": [
    "import random\n",
    "\n",
    "def choice(s: list) -> object:\n",
    "    if s:\n",
    "        return s[random.randrange(len(s))]\n",
    "    else:\n",
    "        raise ValueError(\"Empty list.\")\n",
    "\n",
    "choice([10,20,30,40])"
   ]
  },
  {
   "cell_type": "markdown",
   "metadata": {},
   "source": [
    "### Creativity"
   ]
  },
  {
   "cell_type": "markdown",
   "metadata": {},
   "source": [
    "__C-1.13__ Write a pseudo-code description of a function that reverses a list of n integers, so that the numbers are listed in the opposite order than they were before, and compare this method to an equivalent Python function\n",
    "for doing the same thing."
   ]
  },
  {
   "cell_type": "code",
   "execution_count": 13,
   "metadata": {},
   "outputs": [],
   "source": [
    "def reverse_(s: list):\n",
    "    for i in range(len(s)-1, -1, -1):\n",
    "        yield s[i]\n",
    "\n",
    "assert list(reverse_([10,12,3,9,4])) == list(reversed([10,12,3,9,4]))"
   ]
  },
  {
   "cell_type": "markdown",
   "metadata": {},
   "source": [
    "__C-1.14__ Write a short Python function that takes a sequence of integer values and determines if there is a distinct pair of numbers in the sequence whose product is odd."
   ]
  },
  {
   "cell_type": "code",
   "execution_count": 14,
   "metadata": {},
   "outputs": [],
   "source": [
    "def is_odd_pair(s: list) -> bool:\n",
    "    for i in range(len(s)):\n",
    "        for j in range(i, len(s)):\n",
    "            if s[i] * s[j] % 2 == 1:\n",
    "                return True\n",
    "\n",
    "assert is_odd_pair([2,3,4,5])\n",
    "assert not is_odd_pair([2,4,6,8,10])"
   ]
  },
  {
   "cell_type": "markdown",
   "metadata": {},
   "source": [
    "<hr>"
   ]
  }
 ],
 "metadata": {
  "kernelspec": {
   "display_name": "Python 3",
   "language": "python",
   "name": "python3"
  },
  "language_info": {
   "codemirror_mode": {
    "name": "ipython",
    "version": 3
   },
   "file_extension": ".py",
   "mimetype": "text/x-python",
   "name": "python",
   "nbconvert_exporter": "python",
   "pygments_lexer": "ipython3",
   "version": "3.8.3"
  }
 },
 "nbformat": 4,
 "nbformat_minor": 4
}
